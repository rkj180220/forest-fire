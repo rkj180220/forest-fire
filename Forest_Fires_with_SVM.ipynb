{
  "nbformat": 4,
  "nbformat_minor": 0,
  "metadata": {
    "kernelspec": {
      "display_name": "Python 3",
      "language": "python",
      "name": "python3"
    },
    "language_info": {
      "codemirror_mode": {
        "name": "ipython",
        "version": 3
      },
      "file_extension": ".py",
      "mimetype": "text/x-python",
      "name": "python",
      "nbconvert_exporter": "python",
      "pygments_lexer": "ipython3",
      "version": "3.7.7"
    },
    "colab": {
      "provenance": []
    }
  },
  "cells": [
    {
      "cell_type": "markdown",
      "metadata": {
        "id": "eFyf8hlWTcln"
      },
      "source": [
        "### Reading the Montesinho National Park Dataset"
      ]
    },
    {
      "cell_type": "code",
      "metadata": {
        "id": "cclFNeUMTclq",
        "colab": {
          "base_uri": "https://localhost:8080/",
          "height": 391
        },
        "outputId": "80b00c23-08cc-4789-87bd-cbcb81ebdcf4"
      },
      "source": [
        "import pandas as pd\n",
        "import pandas as pd\n",
        "import numpy as np\n",
        "import matplotlib.pyplot as plt\n",
        "from sklearn.decomposition import PCA\n",
        "from sklearn.preprocessing import StandardScaler\n",
        "%matplotlib inline\n",
        "fire=pd.read_csv(r'/content/forestfires.csv')\n",
        "fire"
      ],
      "execution_count": null,
      "outputs": [
        {
          "output_type": "execute_result",
          "data": {
            "text/html": [
              "<div>\n",
              "<style scoped>\n",
              "    .dataframe tbody tr th:only-of-type {\n",
              "        vertical-align: middle;\n",
              "    }\n",
              "\n",
              "    .dataframe tbody tr th {\n",
              "        vertical-align: top;\n",
              "    }\n",
              "\n",
              "    .dataframe thead th {\n",
              "        text-align: right;\n",
              "    }\n",
              "</style>\n",
              "<table border=\"1\" class=\"dataframe\">\n",
              "  <thead>\n",
              "    <tr style=\"text-align: right;\">\n",
              "      <th></th>\n",
              "      <th>X</th>\n",
              "      <th>Y</th>\n",
              "      <th>month</th>\n",
              "      <th>day</th>\n",
              "      <th>FFMC</th>\n",
              "      <th>DMC</th>\n",
              "      <th>DC</th>\n",
              "      <th>ISI</th>\n",
              "      <th>temp</th>\n",
              "      <th>RH</th>\n",
              "      <th>wind</th>\n",
              "      <th>rain</th>\n",
              "      <th>area</th>\n",
              "    </tr>\n",
              "  </thead>\n",
              "  <tbody>\n",
              "    <tr>\n",
              "      <th>0</th>\n",
              "      <td>7</td>\n",
              "      <td>5</td>\n",
              "      <td>mar</td>\n",
              "      <td>fri</td>\n",
              "      <td>86.2</td>\n",
              "      <td>26.2</td>\n",
              "      <td>94.3</td>\n",
              "      <td>5.1</td>\n",
              "      <td>8.2</td>\n",
              "      <td>51</td>\n",
              "      <td>6.7</td>\n",
              "      <td>0.0</td>\n",
              "      <td>0.00</td>\n",
              "    </tr>\n",
              "    <tr>\n",
              "      <th>1</th>\n",
              "      <td>7</td>\n",
              "      <td>4</td>\n",
              "      <td>oct</td>\n",
              "      <td>tue</td>\n",
              "      <td>90.6</td>\n",
              "      <td>35.4</td>\n",
              "      <td>669.1</td>\n",
              "      <td>6.7</td>\n",
              "      <td>18.0</td>\n",
              "      <td>33</td>\n",
              "      <td>0.9</td>\n",
              "      <td>0.0</td>\n",
              "      <td>0.00</td>\n",
              "    </tr>\n",
              "    <tr>\n",
              "      <th>2</th>\n",
              "      <td>7</td>\n",
              "      <td>4</td>\n",
              "      <td>oct</td>\n",
              "      <td>sat</td>\n",
              "      <td>90.6</td>\n",
              "      <td>43.7</td>\n",
              "      <td>686.9</td>\n",
              "      <td>6.7</td>\n",
              "      <td>14.6</td>\n",
              "      <td>33</td>\n",
              "      <td>1.3</td>\n",
              "      <td>0.0</td>\n",
              "      <td>0.00</td>\n",
              "    </tr>\n",
              "    <tr>\n",
              "      <th>3</th>\n",
              "      <td>8</td>\n",
              "      <td>6</td>\n",
              "      <td>mar</td>\n",
              "      <td>fri</td>\n",
              "      <td>91.7</td>\n",
              "      <td>33.3</td>\n",
              "      <td>77.5</td>\n",
              "      <td>9.0</td>\n",
              "      <td>8.3</td>\n",
              "      <td>97</td>\n",
              "      <td>4.0</td>\n",
              "      <td>0.2</td>\n",
              "      <td>0.00</td>\n",
              "    </tr>\n",
              "    <tr>\n",
              "      <th>4</th>\n",
              "      <td>8</td>\n",
              "      <td>6</td>\n",
              "      <td>mar</td>\n",
              "      <td>sun</td>\n",
              "      <td>89.3</td>\n",
              "      <td>51.3</td>\n",
              "      <td>102.2</td>\n",
              "      <td>9.6</td>\n",
              "      <td>11.4</td>\n",
              "      <td>99</td>\n",
              "      <td>1.8</td>\n",
              "      <td>0.0</td>\n",
              "      <td>0.00</td>\n",
              "    </tr>\n",
              "    <tr>\n",
              "      <th>...</th>\n",
              "      <td>...</td>\n",
              "      <td>...</td>\n",
              "      <td>...</td>\n",
              "      <td>...</td>\n",
              "      <td>...</td>\n",
              "      <td>...</td>\n",
              "      <td>...</td>\n",
              "      <td>...</td>\n",
              "      <td>...</td>\n",
              "      <td>...</td>\n",
              "      <td>...</td>\n",
              "      <td>...</td>\n",
              "      <td>...</td>\n",
              "    </tr>\n",
              "    <tr>\n",
              "      <th>512</th>\n",
              "      <td>4</td>\n",
              "      <td>3</td>\n",
              "      <td>aug</td>\n",
              "      <td>sun</td>\n",
              "      <td>81.6</td>\n",
              "      <td>56.7</td>\n",
              "      <td>665.6</td>\n",
              "      <td>1.9</td>\n",
              "      <td>27.8</td>\n",
              "      <td>32</td>\n",
              "      <td>2.7</td>\n",
              "      <td>0.0</td>\n",
              "      <td>6.44</td>\n",
              "    </tr>\n",
              "    <tr>\n",
              "      <th>513</th>\n",
              "      <td>2</td>\n",
              "      <td>4</td>\n",
              "      <td>aug</td>\n",
              "      <td>sun</td>\n",
              "      <td>81.6</td>\n",
              "      <td>56.7</td>\n",
              "      <td>665.6</td>\n",
              "      <td>1.9</td>\n",
              "      <td>21.9</td>\n",
              "      <td>71</td>\n",
              "      <td>5.8</td>\n",
              "      <td>0.0</td>\n",
              "      <td>54.29</td>\n",
              "    </tr>\n",
              "    <tr>\n",
              "      <th>514</th>\n",
              "      <td>7</td>\n",
              "      <td>4</td>\n",
              "      <td>aug</td>\n",
              "      <td>sun</td>\n",
              "      <td>81.6</td>\n",
              "      <td>56.7</td>\n",
              "      <td>665.6</td>\n",
              "      <td>1.9</td>\n",
              "      <td>21.2</td>\n",
              "      <td>70</td>\n",
              "      <td>6.7</td>\n",
              "      <td>0.0</td>\n",
              "      <td>11.16</td>\n",
              "    </tr>\n",
              "    <tr>\n",
              "      <th>515</th>\n",
              "      <td>1</td>\n",
              "      <td>4</td>\n",
              "      <td>aug</td>\n",
              "      <td>sat</td>\n",
              "      <td>94.4</td>\n",
              "      <td>146.0</td>\n",
              "      <td>614.7</td>\n",
              "      <td>11.3</td>\n",
              "      <td>25.6</td>\n",
              "      <td>42</td>\n",
              "      <td>4.0</td>\n",
              "      <td>0.0</td>\n",
              "      <td>0.00</td>\n",
              "    </tr>\n",
              "    <tr>\n",
              "      <th>516</th>\n",
              "      <td>6</td>\n",
              "      <td>3</td>\n",
              "      <td>nov</td>\n",
              "      <td>tue</td>\n",
              "      <td>79.5</td>\n",
              "      <td>3.0</td>\n",
              "      <td>106.7</td>\n",
              "      <td>1.1</td>\n",
              "      <td>11.8</td>\n",
              "      <td>31</td>\n",
              "      <td>4.5</td>\n",
              "      <td>0.0</td>\n",
              "      <td>0.00</td>\n",
              "    </tr>\n",
              "  </tbody>\n",
              "</table>\n",
              "<p>517 rows × 13 columns</p>\n",
              "</div>"
            ],
            "text/plain": [
              "     X  Y month  day  FFMC    DMC     DC   ISI  temp  RH  wind  rain   area\n",
              "0    7  5   mar  fri  86.2   26.2   94.3   5.1   8.2  51   6.7   0.0   0.00\n",
              "1    7  4   oct  tue  90.6   35.4  669.1   6.7  18.0  33   0.9   0.0   0.00\n",
              "2    7  4   oct  sat  90.6   43.7  686.9   6.7  14.6  33   1.3   0.0   0.00\n",
              "3    8  6   mar  fri  91.7   33.3   77.5   9.0   8.3  97   4.0   0.2   0.00\n",
              "4    8  6   mar  sun  89.3   51.3  102.2   9.6  11.4  99   1.8   0.0   0.00\n",
              "..  .. ..   ...  ...   ...    ...    ...   ...   ...  ..   ...   ...    ...\n",
              "512  4  3   aug  sun  81.6   56.7  665.6   1.9  27.8  32   2.7   0.0   6.44\n",
              "513  2  4   aug  sun  81.6   56.7  665.6   1.9  21.9  71   5.8   0.0  54.29\n",
              "514  7  4   aug  sun  81.6   56.7  665.6   1.9  21.2  70   6.7   0.0  11.16\n",
              "515  1  4   aug  sat  94.4  146.0  614.7  11.3  25.6  42   4.0   0.0   0.00\n",
              "516  6  3   nov  tue  79.5    3.0  106.7   1.1  11.8  31   4.5   0.0   0.00\n",
              "\n",
              "[517 rows x 13 columns]"
            ]
          },
          "metadata": {
            "tags": []
          },
          "execution_count": 4
        }
      ]
    },
    {
      "cell_type": "markdown",
      "metadata": {
        "id": "9WBRVf_ITcly"
      },
      "source": [
        "### Coding (Convert linguistic terms to numeric form)"
      ]
    },
    {
      "cell_type": "markdown",
      "metadata": {
        "id": "JDYV672pTclz"
      },
      "source": [
        "##### 1) Create a repition table by determing the repetition times for each linguistic term"
      ]
    },
    {
      "cell_type": "code",
      "metadata": {
        "id": "gInFraQ_Tcl0",
        "colab": {
          "base_uri": "https://localhost:8080/",
          "height": 363
        },
        "outputId": "51ebbc3e-4efd-42de-a5ad-e8c9f9160c6f"
      },
      "source": [
        "fire.describe(include='all') #its shows basic statistical characteristics of each numerical feature.\n",
        "# include all ,consider categorical columns also."
      ],
      "execution_count": null,
      "outputs": [
        {
          "output_type": "execute_result",
          "data": {
            "text/html": [
              "<div>\n",
              "<style scoped>\n",
              "    .dataframe tbody tr th:only-of-type {\n",
              "        vertical-align: middle;\n",
              "    }\n",
              "\n",
              "    .dataframe tbody tr th {\n",
              "        vertical-align: top;\n",
              "    }\n",
              "\n",
              "    .dataframe thead th {\n",
              "        text-align: right;\n",
              "    }\n",
              "</style>\n",
              "<table border=\"1\" class=\"dataframe\">\n",
              "  <thead>\n",
              "    <tr style=\"text-align: right;\">\n",
              "      <th></th>\n",
              "      <th>X</th>\n",
              "      <th>Y</th>\n",
              "      <th>month</th>\n",
              "      <th>day</th>\n",
              "      <th>FFMC</th>\n",
              "      <th>DMC</th>\n",
              "      <th>DC</th>\n",
              "      <th>ISI</th>\n",
              "      <th>temp</th>\n",
              "      <th>RH</th>\n",
              "      <th>wind</th>\n",
              "      <th>rain</th>\n",
              "      <th>area</th>\n",
              "    </tr>\n",
              "  </thead>\n",
              "  <tbody>\n",
              "    <tr>\n",
              "      <th>count</th>\n",
              "      <td>517.000000</td>\n",
              "      <td>517.000000</td>\n",
              "      <td>517</td>\n",
              "      <td>517</td>\n",
              "      <td>517.000000</td>\n",
              "      <td>517.000000</td>\n",
              "      <td>517.000000</td>\n",
              "      <td>517.000000</td>\n",
              "      <td>517.000000</td>\n",
              "      <td>517.000000</td>\n",
              "      <td>517.000000</td>\n",
              "      <td>517.000000</td>\n",
              "      <td>517.000000</td>\n",
              "    </tr>\n",
              "    <tr>\n",
              "      <th>unique</th>\n",
              "      <td>NaN</td>\n",
              "      <td>NaN</td>\n",
              "      <td>12</td>\n",
              "      <td>7</td>\n",
              "      <td>NaN</td>\n",
              "      <td>NaN</td>\n",
              "      <td>NaN</td>\n",
              "      <td>NaN</td>\n",
              "      <td>NaN</td>\n",
              "      <td>NaN</td>\n",
              "      <td>NaN</td>\n",
              "      <td>NaN</td>\n",
              "      <td>NaN</td>\n",
              "    </tr>\n",
              "    <tr>\n",
              "      <th>top</th>\n",
              "      <td>NaN</td>\n",
              "      <td>NaN</td>\n",
              "      <td>aug</td>\n",
              "      <td>sun</td>\n",
              "      <td>NaN</td>\n",
              "      <td>NaN</td>\n",
              "      <td>NaN</td>\n",
              "      <td>NaN</td>\n",
              "      <td>NaN</td>\n",
              "      <td>NaN</td>\n",
              "      <td>NaN</td>\n",
              "      <td>NaN</td>\n",
              "      <td>NaN</td>\n",
              "    </tr>\n",
              "    <tr>\n",
              "      <th>freq</th>\n",
              "      <td>NaN</td>\n",
              "      <td>NaN</td>\n",
              "      <td>184</td>\n",
              "      <td>95</td>\n",
              "      <td>NaN</td>\n",
              "      <td>NaN</td>\n",
              "      <td>NaN</td>\n",
              "      <td>NaN</td>\n",
              "      <td>NaN</td>\n",
              "      <td>NaN</td>\n",
              "      <td>NaN</td>\n",
              "      <td>NaN</td>\n",
              "      <td>NaN</td>\n",
              "    </tr>\n",
              "    <tr>\n",
              "      <th>mean</th>\n",
              "      <td>4.669246</td>\n",
              "      <td>4.299807</td>\n",
              "      <td>NaN</td>\n",
              "      <td>NaN</td>\n",
              "      <td>90.644681</td>\n",
              "      <td>110.872340</td>\n",
              "      <td>547.940039</td>\n",
              "      <td>9.021663</td>\n",
              "      <td>18.889168</td>\n",
              "      <td>44.288201</td>\n",
              "      <td>4.017602</td>\n",
              "      <td>0.021663</td>\n",
              "      <td>12.847292</td>\n",
              "    </tr>\n",
              "    <tr>\n",
              "      <th>std</th>\n",
              "      <td>2.313778</td>\n",
              "      <td>1.229900</td>\n",
              "      <td>NaN</td>\n",
              "      <td>NaN</td>\n",
              "      <td>5.520111</td>\n",
              "      <td>64.046482</td>\n",
              "      <td>248.066192</td>\n",
              "      <td>4.559477</td>\n",
              "      <td>5.806625</td>\n",
              "      <td>16.317469</td>\n",
              "      <td>1.791653</td>\n",
              "      <td>0.295959</td>\n",
              "      <td>63.655818</td>\n",
              "    </tr>\n",
              "    <tr>\n",
              "      <th>min</th>\n",
              "      <td>1.000000</td>\n",
              "      <td>2.000000</td>\n",
              "      <td>NaN</td>\n",
              "      <td>NaN</td>\n",
              "      <td>18.700000</td>\n",
              "      <td>1.100000</td>\n",
              "      <td>7.900000</td>\n",
              "      <td>0.000000</td>\n",
              "      <td>2.200000</td>\n",
              "      <td>15.000000</td>\n",
              "      <td>0.400000</td>\n",
              "      <td>0.000000</td>\n",
              "      <td>0.000000</td>\n",
              "    </tr>\n",
              "    <tr>\n",
              "      <th>25%</th>\n",
              "      <td>3.000000</td>\n",
              "      <td>4.000000</td>\n",
              "      <td>NaN</td>\n",
              "      <td>NaN</td>\n",
              "      <td>90.200000</td>\n",
              "      <td>68.600000</td>\n",
              "      <td>437.700000</td>\n",
              "      <td>6.500000</td>\n",
              "      <td>15.500000</td>\n",
              "      <td>33.000000</td>\n",
              "      <td>2.700000</td>\n",
              "      <td>0.000000</td>\n",
              "      <td>0.000000</td>\n",
              "    </tr>\n",
              "    <tr>\n",
              "      <th>50%</th>\n",
              "      <td>4.000000</td>\n",
              "      <td>4.000000</td>\n",
              "      <td>NaN</td>\n",
              "      <td>NaN</td>\n",
              "      <td>91.600000</td>\n",
              "      <td>108.300000</td>\n",
              "      <td>664.200000</td>\n",
              "      <td>8.400000</td>\n",
              "      <td>19.300000</td>\n",
              "      <td>42.000000</td>\n",
              "      <td>4.000000</td>\n",
              "      <td>0.000000</td>\n",
              "      <td>0.520000</td>\n",
              "    </tr>\n",
              "    <tr>\n",
              "      <th>75%</th>\n",
              "      <td>7.000000</td>\n",
              "      <td>5.000000</td>\n",
              "      <td>NaN</td>\n",
              "      <td>NaN</td>\n",
              "      <td>92.900000</td>\n",
              "      <td>142.400000</td>\n",
              "      <td>713.900000</td>\n",
              "      <td>10.800000</td>\n",
              "      <td>22.800000</td>\n",
              "      <td>53.000000</td>\n",
              "      <td>4.900000</td>\n",
              "      <td>0.000000</td>\n",
              "      <td>6.570000</td>\n",
              "    </tr>\n",
              "    <tr>\n",
              "      <th>max</th>\n",
              "      <td>9.000000</td>\n",
              "      <td>9.000000</td>\n",
              "      <td>NaN</td>\n",
              "      <td>NaN</td>\n",
              "      <td>96.200000</td>\n",
              "      <td>291.300000</td>\n",
              "      <td>860.600000</td>\n",
              "      <td>56.100000</td>\n",
              "      <td>33.300000</td>\n",
              "      <td>100.000000</td>\n",
              "      <td>9.400000</td>\n",
              "      <td>6.400000</td>\n",
              "      <td>1090.840000</td>\n",
              "    </tr>\n",
              "  </tbody>\n",
              "</table>\n",
              "</div>"
            ],
            "text/plain": [
              "                 X           Y month  ...        wind        rain         area\n",
              "count   517.000000  517.000000   517  ...  517.000000  517.000000   517.000000\n",
              "unique         NaN         NaN    12  ...         NaN         NaN          NaN\n",
              "top            NaN         NaN   aug  ...         NaN         NaN          NaN\n",
              "freq           NaN         NaN   184  ...         NaN         NaN          NaN\n",
              "mean      4.669246    4.299807   NaN  ...    4.017602    0.021663    12.847292\n",
              "std       2.313778    1.229900   NaN  ...    1.791653    0.295959    63.655818\n",
              "min       1.000000    2.000000   NaN  ...    0.400000    0.000000     0.000000\n",
              "25%       3.000000    4.000000   NaN  ...    2.700000    0.000000     0.000000\n",
              "50%       4.000000    4.000000   NaN  ...    4.000000    0.000000     0.520000\n",
              "75%       7.000000    5.000000   NaN  ...    4.900000    0.000000     6.570000\n",
              "max       9.000000    9.000000   NaN  ...    9.400000    6.400000  1090.840000\n",
              "\n",
              "[11 rows x 13 columns]"
            ]
          },
          "metadata": {
            "tags": []
          },
          "execution_count": 5
        }
      ]
    },
    {
      "cell_type": "code",
      "metadata": {
        "id": "uo56ypbJTcl6",
        "colab": {
          "base_uri": "https://localhost:8080/"
        },
        "outputId": "64c57c1d-b642-4b57-9268-38654a4f5195"
      },
      "source": [
        "count_month = fire['month'].value_counts()\n",
        "count_day = fire['day'].value_counts()\n",
        "print(count_month, count_day)"
      ],
      "execution_count": null,
      "outputs": [
        {
          "output_type": "stream",
          "text": [
            "aug    184\n",
            "sep    172\n",
            "mar     54\n",
            "jul     32\n",
            "feb     20\n",
            "jun     17\n",
            "oct     15\n",
            "apr      9\n",
            "dec      9\n",
            "jan      2\n",
            "may      2\n",
            "nov      1\n",
            "Name: month, dtype: int64 sun    95\n",
            "fri    85\n",
            "sat    84\n",
            "mon    74\n",
            "tue    64\n",
            "thu    61\n",
            "wed    54\n",
            "Name: day, dtype: int64\n"
          ],
          "name": "stdout"
        }
      ]
    },
    {
      "cell_type": "markdown",
      "metadata": {
        "id": "BT_xwYQRTcl_"
      },
      "source": [
        "##### 2) Rearrange: The table by making the large value repeated in the middle and the lower one in the right and left. This process was repeated until the minimum repetition becomes at most left and most right.\n"
      ]
    },
    {
      "cell_type": "code",
      "metadata": {
        "id": "yUV88cU7TcmA"
      },
      "source": [
        "month_sort=count_month.sort_values()\n",
        "day_sort=count_day.sort_values()"
      ],
      "execution_count": null,
      "outputs": []
    },
    {
      "cell_type": "markdown",
      "metadata": {
        "id": "6OvB9nuFTcmG"
      },
      "source": [
        "##### 3) Code the linguistic terms with the new order\n",
        "Normalization formula = (ei-Emin)/Emax-Emin)"
      ]
    },
    {
      "cell_type": "markdown",
      "metadata": {
        "id": "jEx8g7_gTcmH"
      },
      "source": [
        "###### Day Normalization"
      ]
    },
    {
      "cell_type": "code",
      "metadata": {
        "id": "zRB2Vo2cTcmI"
      },
      "source": [
        "Dmax=7\n",
        "Dmin=1"
      ],
      "execution_count": null,
      "outputs": []
    },
    {
      "cell_type": "code",
      "metadata": {
        "id": "XhKoJ9IJTcmT"
      },
      "source": [
        "month_list=[['nov',1],['jan',2],['dec',3],['jun',4],['july',5],['sep',6],['aug',7],['march',8],['feb',9],['oct',10],['apr',11],['may',12]]"
      ],
      "execution_count": null,
      "outputs": []
    },
    {
      "cell_type": "code",
      "metadata": {
        "id": "rgVtOoX-TcmY"
      },
      "source": [
        "day_list=[['wed',7],['tue',6],['sat',4],['sun',5],['fri',3],['mon',2],['thu',1]]\n"
      ],
      "execution_count": null,
      "outputs": []
    },
    {
      "cell_type": "code",
      "metadata": {
        "id": "nH5n-l4PTcmd"
      },
      "source": [
        "fire.month.replace(('jan','feb','mar','apr','may','jun','jul','aug','sep','oct','nov','dec'),(1,2,3,4,5,6,7,8,9,10,11,12), inplace=True)"
      ],
      "execution_count": null,
      "outputs": []
    },
    {
      "cell_type": "code",
      "metadata": {
        "id": "_dFQX2crTcmh"
      },
      "source": [
        "#fire.day.replace(('mon','tue','wed','thu','fri','sat','sun'),(2,6,7,1,3,4,5), inplace=True)\n",
        "fire.day.replace(('mon','tue','wed','thu','fri','sat','sun'),(1,2,3,4,5,6,7), inplace=True)"
      ],
      "execution_count": null,
      "outputs": []
    },
    {
      "cell_type": "markdown",
      "metadata": {
        "id": "NyY_C5DoUuE6"
      },
      "source": [
        "Dataset after transforming Categorical to Numerical Data"
      ]
    },
    {
      "cell_type": "code",
      "metadata": {
        "id": "OCZiQVA_Tcmn",
        "colab": {
          "base_uri": "https://localhost:8080/",
          "height": 391
        },
        "outputId": "20b9ef35-1940-4565-e1a9-350684a85d69"
      },
      "source": [
        "fire"
      ],
      "execution_count": null,
      "outputs": [
        {
          "output_type": "execute_result",
          "data": {
            "text/html": [
              "<div>\n",
              "<style scoped>\n",
              "    .dataframe tbody tr th:only-of-type {\n",
              "        vertical-align: middle;\n",
              "    }\n",
              "\n",
              "    .dataframe tbody tr th {\n",
              "        vertical-align: top;\n",
              "    }\n",
              "\n",
              "    .dataframe thead th {\n",
              "        text-align: right;\n",
              "    }\n",
              "</style>\n",
              "<table border=\"1\" class=\"dataframe\">\n",
              "  <thead>\n",
              "    <tr style=\"text-align: right;\">\n",
              "      <th></th>\n",
              "      <th>X</th>\n",
              "      <th>Y</th>\n",
              "      <th>month</th>\n",
              "      <th>day</th>\n",
              "      <th>FFMC</th>\n",
              "      <th>DMC</th>\n",
              "      <th>DC</th>\n",
              "      <th>ISI</th>\n",
              "      <th>temp</th>\n",
              "      <th>RH</th>\n",
              "      <th>wind</th>\n",
              "      <th>rain</th>\n",
              "      <th>area</th>\n",
              "    </tr>\n",
              "  </thead>\n",
              "  <tbody>\n",
              "    <tr>\n",
              "      <th>0</th>\n",
              "      <td>7</td>\n",
              "      <td>5</td>\n",
              "      <td>3</td>\n",
              "      <td>5</td>\n",
              "      <td>86.2</td>\n",
              "      <td>26.2</td>\n",
              "      <td>94.3</td>\n",
              "      <td>5.1</td>\n",
              "      <td>8.2</td>\n",
              "      <td>51</td>\n",
              "      <td>6.7</td>\n",
              "      <td>0.0</td>\n",
              "      <td>0.00</td>\n",
              "    </tr>\n",
              "    <tr>\n",
              "      <th>1</th>\n",
              "      <td>7</td>\n",
              "      <td>4</td>\n",
              "      <td>10</td>\n",
              "      <td>2</td>\n",
              "      <td>90.6</td>\n",
              "      <td>35.4</td>\n",
              "      <td>669.1</td>\n",
              "      <td>6.7</td>\n",
              "      <td>18.0</td>\n",
              "      <td>33</td>\n",
              "      <td>0.9</td>\n",
              "      <td>0.0</td>\n",
              "      <td>0.00</td>\n",
              "    </tr>\n",
              "    <tr>\n",
              "      <th>2</th>\n",
              "      <td>7</td>\n",
              "      <td>4</td>\n",
              "      <td>10</td>\n",
              "      <td>6</td>\n",
              "      <td>90.6</td>\n",
              "      <td>43.7</td>\n",
              "      <td>686.9</td>\n",
              "      <td>6.7</td>\n",
              "      <td>14.6</td>\n",
              "      <td>33</td>\n",
              "      <td>1.3</td>\n",
              "      <td>0.0</td>\n",
              "      <td>0.00</td>\n",
              "    </tr>\n",
              "    <tr>\n",
              "      <th>3</th>\n",
              "      <td>8</td>\n",
              "      <td>6</td>\n",
              "      <td>3</td>\n",
              "      <td>5</td>\n",
              "      <td>91.7</td>\n",
              "      <td>33.3</td>\n",
              "      <td>77.5</td>\n",
              "      <td>9.0</td>\n",
              "      <td>8.3</td>\n",
              "      <td>97</td>\n",
              "      <td>4.0</td>\n",
              "      <td>0.2</td>\n",
              "      <td>0.00</td>\n",
              "    </tr>\n",
              "    <tr>\n",
              "      <th>4</th>\n",
              "      <td>8</td>\n",
              "      <td>6</td>\n",
              "      <td>3</td>\n",
              "      <td>7</td>\n",
              "      <td>89.3</td>\n",
              "      <td>51.3</td>\n",
              "      <td>102.2</td>\n",
              "      <td>9.6</td>\n",
              "      <td>11.4</td>\n",
              "      <td>99</td>\n",
              "      <td>1.8</td>\n",
              "      <td>0.0</td>\n",
              "      <td>0.00</td>\n",
              "    </tr>\n",
              "    <tr>\n",
              "      <th>...</th>\n",
              "      <td>...</td>\n",
              "      <td>...</td>\n",
              "      <td>...</td>\n",
              "      <td>...</td>\n",
              "      <td>...</td>\n",
              "      <td>...</td>\n",
              "      <td>...</td>\n",
              "      <td>...</td>\n",
              "      <td>...</td>\n",
              "      <td>...</td>\n",
              "      <td>...</td>\n",
              "      <td>...</td>\n",
              "      <td>...</td>\n",
              "    </tr>\n",
              "    <tr>\n",
              "      <th>512</th>\n",
              "      <td>4</td>\n",
              "      <td>3</td>\n",
              "      <td>8</td>\n",
              "      <td>7</td>\n",
              "      <td>81.6</td>\n",
              "      <td>56.7</td>\n",
              "      <td>665.6</td>\n",
              "      <td>1.9</td>\n",
              "      <td>27.8</td>\n",
              "      <td>32</td>\n",
              "      <td>2.7</td>\n",
              "      <td>0.0</td>\n",
              "      <td>6.44</td>\n",
              "    </tr>\n",
              "    <tr>\n",
              "      <th>513</th>\n",
              "      <td>2</td>\n",
              "      <td>4</td>\n",
              "      <td>8</td>\n",
              "      <td>7</td>\n",
              "      <td>81.6</td>\n",
              "      <td>56.7</td>\n",
              "      <td>665.6</td>\n",
              "      <td>1.9</td>\n",
              "      <td>21.9</td>\n",
              "      <td>71</td>\n",
              "      <td>5.8</td>\n",
              "      <td>0.0</td>\n",
              "      <td>54.29</td>\n",
              "    </tr>\n",
              "    <tr>\n",
              "      <th>514</th>\n",
              "      <td>7</td>\n",
              "      <td>4</td>\n",
              "      <td>8</td>\n",
              "      <td>7</td>\n",
              "      <td>81.6</td>\n",
              "      <td>56.7</td>\n",
              "      <td>665.6</td>\n",
              "      <td>1.9</td>\n",
              "      <td>21.2</td>\n",
              "      <td>70</td>\n",
              "      <td>6.7</td>\n",
              "      <td>0.0</td>\n",
              "      <td>11.16</td>\n",
              "    </tr>\n",
              "    <tr>\n",
              "      <th>515</th>\n",
              "      <td>1</td>\n",
              "      <td>4</td>\n",
              "      <td>8</td>\n",
              "      <td>6</td>\n",
              "      <td>94.4</td>\n",
              "      <td>146.0</td>\n",
              "      <td>614.7</td>\n",
              "      <td>11.3</td>\n",
              "      <td>25.6</td>\n",
              "      <td>42</td>\n",
              "      <td>4.0</td>\n",
              "      <td>0.0</td>\n",
              "      <td>0.00</td>\n",
              "    </tr>\n",
              "    <tr>\n",
              "      <th>516</th>\n",
              "      <td>6</td>\n",
              "      <td>3</td>\n",
              "      <td>11</td>\n",
              "      <td>2</td>\n",
              "      <td>79.5</td>\n",
              "      <td>3.0</td>\n",
              "      <td>106.7</td>\n",
              "      <td>1.1</td>\n",
              "      <td>11.8</td>\n",
              "      <td>31</td>\n",
              "      <td>4.5</td>\n",
              "      <td>0.0</td>\n",
              "      <td>0.00</td>\n",
              "    </tr>\n",
              "  </tbody>\n",
              "</table>\n",
              "<p>517 rows × 13 columns</p>\n",
              "</div>"
            ],
            "text/plain": [
              "     X  Y  month  day  FFMC    DMC     DC   ISI  temp  RH  wind  rain   area\n",
              "0    7  5      3    5  86.2   26.2   94.3   5.1   8.2  51   6.7   0.0   0.00\n",
              "1    7  4     10    2  90.6   35.4  669.1   6.7  18.0  33   0.9   0.0   0.00\n",
              "2    7  4     10    6  90.6   43.7  686.9   6.7  14.6  33   1.3   0.0   0.00\n",
              "3    8  6      3    5  91.7   33.3   77.5   9.0   8.3  97   4.0   0.2   0.00\n",
              "4    8  6      3    7  89.3   51.3  102.2   9.6  11.4  99   1.8   0.0   0.00\n",
              "..  .. ..    ...  ...   ...    ...    ...   ...   ...  ..   ...   ...    ...\n",
              "512  4  3      8    7  81.6   56.7  665.6   1.9  27.8  32   2.7   0.0   6.44\n",
              "513  2  4      8    7  81.6   56.7  665.6   1.9  21.9  71   5.8   0.0  54.29\n",
              "514  7  4      8    7  81.6   56.7  665.6   1.9  21.2  70   6.7   0.0  11.16\n",
              "515  1  4      8    6  94.4  146.0  614.7  11.3  25.6  42   4.0   0.0   0.00\n",
              "516  6  3     11    2  79.5    3.0  106.7   1.1  11.8  31   4.5   0.0   0.00\n",
              "\n",
              "[517 rows x 13 columns]"
            ]
          },
          "metadata": {
            "tags": []
          },
          "execution_count": 13
        }
      ]
    },
    {
      "cell_type": "code",
      "metadata": {
        "id": "aKWkD4BgTcmt",
        "colab": {
          "base_uri": "https://localhost:8080/",
          "height": 277
        },
        "outputId": "c646346e-eec4-4a59-e1a3-440aef2dc7b4"
      },
      "source": [
        "fire.describe(include='all') #its shows basic statistical characteristics of each numerical feature.\n",
        "# include all ,consider categorical columns also."
      ],
      "execution_count": null,
      "outputs": [
        {
          "output_type": "execute_result",
          "data": {
            "text/html": [
              "<div>\n",
              "<style scoped>\n",
              "    .dataframe tbody tr th:only-of-type {\n",
              "        vertical-align: middle;\n",
              "    }\n",
              "\n",
              "    .dataframe tbody tr th {\n",
              "        vertical-align: top;\n",
              "    }\n",
              "\n",
              "    .dataframe thead th {\n",
              "        text-align: right;\n",
              "    }\n",
              "</style>\n",
              "<table border=\"1\" class=\"dataframe\">\n",
              "  <thead>\n",
              "    <tr style=\"text-align: right;\">\n",
              "      <th></th>\n",
              "      <th>X</th>\n",
              "      <th>Y</th>\n",
              "      <th>month</th>\n",
              "      <th>day</th>\n",
              "      <th>FFMC</th>\n",
              "      <th>DMC</th>\n",
              "      <th>DC</th>\n",
              "      <th>ISI</th>\n",
              "      <th>temp</th>\n",
              "      <th>RH</th>\n",
              "      <th>wind</th>\n",
              "      <th>rain</th>\n",
              "      <th>area</th>\n",
              "    </tr>\n",
              "  </thead>\n",
              "  <tbody>\n",
              "    <tr>\n",
              "      <th>count</th>\n",
              "      <td>517.000000</td>\n",
              "      <td>517.000000</td>\n",
              "      <td>517.000000</td>\n",
              "      <td>517.000000</td>\n",
              "      <td>517.000000</td>\n",
              "      <td>517.000000</td>\n",
              "      <td>517.000000</td>\n",
              "      <td>517.000000</td>\n",
              "      <td>517.000000</td>\n",
              "      <td>517.000000</td>\n",
              "      <td>517.000000</td>\n",
              "      <td>517.000000</td>\n",
              "      <td>517.000000</td>\n",
              "    </tr>\n",
              "    <tr>\n",
              "      <th>mean</th>\n",
              "      <td>4.669246</td>\n",
              "      <td>4.299807</td>\n",
              "      <td>7.475822</td>\n",
              "      <td>4.259188</td>\n",
              "      <td>90.644681</td>\n",
              "      <td>110.872340</td>\n",
              "      <td>547.940039</td>\n",
              "      <td>9.021663</td>\n",
              "      <td>18.889168</td>\n",
              "      <td>44.288201</td>\n",
              "      <td>4.017602</td>\n",
              "      <td>0.021663</td>\n",
              "      <td>12.847292</td>\n",
              "    </tr>\n",
              "    <tr>\n",
              "      <th>std</th>\n",
              "      <td>2.313778</td>\n",
              "      <td>1.229900</td>\n",
              "      <td>2.275990</td>\n",
              "      <td>2.072929</td>\n",
              "      <td>5.520111</td>\n",
              "      <td>64.046482</td>\n",
              "      <td>248.066192</td>\n",
              "      <td>4.559477</td>\n",
              "      <td>5.806625</td>\n",
              "      <td>16.317469</td>\n",
              "      <td>1.791653</td>\n",
              "      <td>0.295959</td>\n",
              "      <td>63.655818</td>\n",
              "    </tr>\n",
              "    <tr>\n",
              "      <th>min</th>\n",
              "      <td>1.000000</td>\n",
              "      <td>2.000000</td>\n",
              "      <td>1.000000</td>\n",
              "      <td>1.000000</td>\n",
              "      <td>18.700000</td>\n",
              "      <td>1.100000</td>\n",
              "      <td>7.900000</td>\n",
              "      <td>0.000000</td>\n",
              "      <td>2.200000</td>\n",
              "      <td>15.000000</td>\n",
              "      <td>0.400000</td>\n",
              "      <td>0.000000</td>\n",
              "      <td>0.000000</td>\n",
              "    </tr>\n",
              "    <tr>\n",
              "      <th>25%</th>\n",
              "      <td>3.000000</td>\n",
              "      <td>4.000000</td>\n",
              "      <td>7.000000</td>\n",
              "      <td>2.000000</td>\n",
              "      <td>90.200000</td>\n",
              "      <td>68.600000</td>\n",
              "      <td>437.700000</td>\n",
              "      <td>6.500000</td>\n",
              "      <td>15.500000</td>\n",
              "      <td>33.000000</td>\n",
              "      <td>2.700000</td>\n",
              "      <td>0.000000</td>\n",
              "      <td>0.000000</td>\n",
              "    </tr>\n",
              "    <tr>\n",
              "      <th>50%</th>\n",
              "      <td>4.000000</td>\n",
              "      <td>4.000000</td>\n",
              "      <td>8.000000</td>\n",
              "      <td>5.000000</td>\n",
              "      <td>91.600000</td>\n",
              "      <td>108.300000</td>\n",
              "      <td>664.200000</td>\n",
              "      <td>8.400000</td>\n",
              "      <td>19.300000</td>\n",
              "      <td>42.000000</td>\n",
              "      <td>4.000000</td>\n",
              "      <td>0.000000</td>\n",
              "      <td>0.520000</td>\n",
              "    </tr>\n",
              "    <tr>\n",
              "      <th>75%</th>\n",
              "      <td>7.000000</td>\n",
              "      <td>5.000000</td>\n",
              "      <td>9.000000</td>\n",
              "      <td>6.000000</td>\n",
              "      <td>92.900000</td>\n",
              "      <td>142.400000</td>\n",
              "      <td>713.900000</td>\n",
              "      <td>10.800000</td>\n",
              "      <td>22.800000</td>\n",
              "      <td>53.000000</td>\n",
              "      <td>4.900000</td>\n",
              "      <td>0.000000</td>\n",
              "      <td>6.570000</td>\n",
              "    </tr>\n",
              "    <tr>\n",
              "      <th>max</th>\n",
              "      <td>9.000000</td>\n",
              "      <td>9.000000</td>\n",
              "      <td>12.000000</td>\n",
              "      <td>7.000000</td>\n",
              "      <td>96.200000</td>\n",
              "      <td>291.300000</td>\n",
              "      <td>860.600000</td>\n",
              "      <td>56.100000</td>\n",
              "      <td>33.300000</td>\n",
              "      <td>100.000000</td>\n",
              "      <td>9.400000</td>\n",
              "      <td>6.400000</td>\n",
              "      <td>1090.840000</td>\n",
              "    </tr>\n",
              "  </tbody>\n",
              "</table>\n",
              "</div>"
            ],
            "text/plain": [
              "                X           Y       month  ...        wind        rain         area\n",
              "count  517.000000  517.000000  517.000000  ...  517.000000  517.000000   517.000000\n",
              "mean     4.669246    4.299807    7.475822  ...    4.017602    0.021663    12.847292\n",
              "std      2.313778    1.229900    2.275990  ...    1.791653    0.295959    63.655818\n",
              "min      1.000000    2.000000    1.000000  ...    0.400000    0.000000     0.000000\n",
              "25%      3.000000    4.000000    7.000000  ...    2.700000    0.000000     0.000000\n",
              "50%      4.000000    4.000000    8.000000  ...    4.000000    0.000000     0.520000\n",
              "75%      7.000000    5.000000    9.000000  ...    4.900000    0.000000     6.570000\n",
              "max      9.000000    9.000000   12.000000  ...    9.400000    6.400000  1090.840000\n",
              "\n",
              "[8 rows x 13 columns]"
            ]
          },
          "metadata": {
            "tags": []
          },
          "execution_count": 14
        }
      ]
    },
    {
      "cell_type": "code",
      "metadata": {
        "id": "p8mqemRnTcmy",
        "colab": {
          "base_uri": "https://localhost:8080/"
        },
        "outputId": "9fe0fee8-3eba-41a0-ca54-3eb94356b04a"
      },
      "source": [
        "print(\"Shape:\", fire.shape)"
      ],
      "execution_count": null,
      "outputs": [
        {
          "output_type": "stream",
          "text": [
            "Shape: (517, 13)\n"
          ],
          "name": "stdout"
        }
      ]
    },
    {
      "cell_type": "code",
      "metadata": {
        "id": "Pq556ZR_Tcm4",
        "colab": {
          "base_uri": "https://localhost:8080/"
        },
        "outputId": "6de8f7d4-d2e2-47ec-b67b-3cf509cbe490"
      },
      "source": [
        "print(\"Data Types:\", fire.dtypes)"
      ],
      "execution_count": null,
      "outputs": [
        {
          "output_type": "stream",
          "text": [
            "Data Types: X          int64\n",
            "Y          int64\n",
            "month      int64\n",
            "day        int64\n",
            "FFMC     float64\n",
            "DMC      float64\n",
            "DC       float64\n",
            "ISI      float64\n",
            "temp     float64\n",
            "RH         int64\n",
            "wind     float64\n",
            "rain     float64\n",
            "area     float64\n",
            "dtype: object\n"
          ],
          "name": "stdout"
        }
      ]
    },
    {
      "cell_type": "markdown",
      "metadata": {
        "id": "tj-YV7lnTcm9"
      },
      "source": [
        "#Applying PCA - Finding the Correlation"
      ]
    },
    {
      "cell_type": "code",
      "metadata": {
        "id": "mkYeEbJdTcm-",
        "colab": {
          "base_uri": "https://localhost:8080/",
          "height": 421
        },
        "outputId": "7b2b675c-dd72-4a26-f7c5-bba899370d5d"
      },
      "source": [
        "corr_fire=fire.corr(method='pearson')\n",
        "corr_fire"
      ],
      "execution_count": null,
      "outputs": [
        {
          "output_type": "execute_result",
          "data": {
            "text/html": [
              "<div>\n",
              "<style scoped>\n",
              "    .dataframe tbody tr th:only-of-type {\n",
              "        vertical-align: middle;\n",
              "    }\n",
              "\n",
              "    .dataframe tbody tr th {\n",
              "        vertical-align: top;\n",
              "    }\n",
              "\n",
              "    .dataframe thead th {\n",
              "        text-align: right;\n",
              "    }\n",
              "</style>\n",
              "<table border=\"1\" class=\"dataframe\">\n",
              "  <thead>\n",
              "    <tr style=\"text-align: right;\">\n",
              "      <th></th>\n",
              "      <th>X</th>\n",
              "      <th>Y</th>\n",
              "      <th>month</th>\n",
              "      <th>day</th>\n",
              "      <th>FFMC</th>\n",
              "      <th>DMC</th>\n",
              "      <th>DC</th>\n",
              "      <th>ISI</th>\n",
              "      <th>temp</th>\n",
              "      <th>RH</th>\n",
              "      <th>wind</th>\n",
              "      <th>rain</th>\n",
              "      <th>area</th>\n",
              "    </tr>\n",
              "  </thead>\n",
              "  <tbody>\n",
              "    <tr>\n",
              "      <th>X</th>\n",
              "      <td>1.000000</td>\n",
              "      <td>0.539548</td>\n",
              "      <td>-0.065003</td>\n",
              "      <td>-0.024922</td>\n",
              "      <td>-0.021039</td>\n",
              "      <td>-0.048384</td>\n",
              "      <td>-0.085916</td>\n",
              "      <td>0.006210</td>\n",
              "      <td>-0.051258</td>\n",
              "      <td>0.085223</td>\n",
              "      <td>0.018798</td>\n",
              "      <td>0.065387</td>\n",
              "      <td>0.063385</td>\n",
              "    </tr>\n",
              "    <tr>\n",
              "      <th>Y</th>\n",
              "      <td>0.539548</td>\n",
              "      <td>1.000000</td>\n",
              "      <td>-0.066292</td>\n",
              "      <td>-0.005453</td>\n",
              "      <td>-0.046308</td>\n",
              "      <td>0.007782</td>\n",
              "      <td>-0.101178</td>\n",
              "      <td>-0.024488</td>\n",
              "      <td>-0.024103</td>\n",
              "      <td>0.062221</td>\n",
              "      <td>-0.020341</td>\n",
              "      <td>0.033234</td>\n",
              "      <td>0.044873</td>\n",
              "    </tr>\n",
              "    <tr>\n",
              "      <th>month</th>\n",
              "      <td>-0.065003</td>\n",
              "      <td>-0.066292</td>\n",
              "      <td>1.000000</td>\n",
              "      <td>-0.050837</td>\n",
              "      <td>0.291477</td>\n",
              "      <td>0.466645</td>\n",
              "      <td>0.868698</td>\n",
              "      <td>0.186597</td>\n",
              "      <td>0.368842</td>\n",
              "      <td>-0.095280</td>\n",
              "      <td>-0.086368</td>\n",
              "      <td>0.013438</td>\n",
              "      <td>0.056496</td>\n",
              "    </tr>\n",
              "    <tr>\n",
              "      <th>day</th>\n",
              "      <td>-0.024922</td>\n",
              "      <td>-0.005453</td>\n",
              "      <td>-0.050837</td>\n",
              "      <td>1.000000</td>\n",
              "      <td>-0.041068</td>\n",
              "      <td>0.062870</td>\n",
              "      <td>0.000105</td>\n",
              "      <td>0.032909</td>\n",
              "      <td>0.052190</td>\n",
              "      <td>0.092151</td>\n",
              "      <td>0.032478</td>\n",
              "      <td>-0.048340</td>\n",
              "      <td>0.023226</td>\n",
              "    </tr>\n",
              "    <tr>\n",
              "      <th>FFMC</th>\n",
              "      <td>-0.021039</td>\n",
              "      <td>-0.046308</td>\n",
              "      <td>0.291477</td>\n",
              "      <td>-0.041068</td>\n",
              "      <td>1.000000</td>\n",
              "      <td>0.382619</td>\n",
              "      <td>0.330512</td>\n",
              "      <td>0.531805</td>\n",
              "      <td>0.431532</td>\n",
              "      <td>-0.300995</td>\n",
              "      <td>-0.028485</td>\n",
              "      <td>0.056702</td>\n",
              "      <td>0.040122</td>\n",
              "    </tr>\n",
              "    <tr>\n",
              "      <th>DMC</th>\n",
              "      <td>-0.048384</td>\n",
              "      <td>0.007782</td>\n",
              "      <td>0.466645</td>\n",
              "      <td>0.062870</td>\n",
              "      <td>0.382619</td>\n",
              "      <td>1.000000</td>\n",
              "      <td>0.682192</td>\n",
              "      <td>0.305128</td>\n",
              "      <td>0.469594</td>\n",
              "      <td>0.073795</td>\n",
              "      <td>-0.105342</td>\n",
              "      <td>0.074790</td>\n",
              "      <td>0.072994</td>\n",
              "    </tr>\n",
              "    <tr>\n",
              "      <th>DC</th>\n",
              "      <td>-0.085916</td>\n",
              "      <td>-0.101178</td>\n",
              "      <td>0.868698</td>\n",
              "      <td>0.000105</td>\n",
              "      <td>0.330512</td>\n",
              "      <td>0.682192</td>\n",
              "      <td>1.000000</td>\n",
              "      <td>0.229154</td>\n",
              "      <td>0.496208</td>\n",
              "      <td>-0.039192</td>\n",
              "      <td>-0.203466</td>\n",
              "      <td>0.035861</td>\n",
              "      <td>0.049383</td>\n",
              "    </tr>\n",
              "    <tr>\n",
              "      <th>ISI</th>\n",
              "      <td>0.006210</td>\n",
              "      <td>-0.024488</td>\n",
              "      <td>0.186597</td>\n",
              "      <td>0.032909</td>\n",
              "      <td>0.531805</td>\n",
              "      <td>0.305128</td>\n",
              "      <td>0.229154</td>\n",
              "      <td>1.000000</td>\n",
              "      <td>0.394287</td>\n",
              "      <td>-0.132517</td>\n",
              "      <td>0.106826</td>\n",
              "      <td>0.067668</td>\n",
              "      <td>0.008258</td>\n",
              "    </tr>\n",
              "    <tr>\n",
              "      <th>temp</th>\n",
              "      <td>-0.051258</td>\n",
              "      <td>-0.024103</td>\n",
              "      <td>0.368842</td>\n",
              "      <td>0.052190</td>\n",
              "      <td>0.431532</td>\n",
              "      <td>0.469594</td>\n",
              "      <td>0.496208</td>\n",
              "      <td>0.394287</td>\n",
              "      <td>1.000000</td>\n",
              "      <td>-0.527390</td>\n",
              "      <td>-0.227116</td>\n",
              "      <td>0.069491</td>\n",
              "      <td>0.097844</td>\n",
              "    </tr>\n",
              "    <tr>\n",
              "      <th>RH</th>\n",
              "      <td>0.085223</td>\n",
              "      <td>0.062221</td>\n",
              "      <td>-0.095280</td>\n",
              "      <td>0.092151</td>\n",
              "      <td>-0.300995</td>\n",
              "      <td>0.073795</td>\n",
              "      <td>-0.039192</td>\n",
              "      <td>-0.132517</td>\n",
              "      <td>-0.527390</td>\n",
              "      <td>1.000000</td>\n",
              "      <td>0.069410</td>\n",
              "      <td>0.099751</td>\n",
              "      <td>-0.075519</td>\n",
              "    </tr>\n",
              "    <tr>\n",
              "      <th>wind</th>\n",
              "      <td>0.018798</td>\n",
              "      <td>-0.020341</td>\n",
              "      <td>-0.086368</td>\n",
              "      <td>0.032478</td>\n",
              "      <td>-0.028485</td>\n",
              "      <td>-0.105342</td>\n",
              "      <td>-0.203466</td>\n",
              "      <td>0.106826</td>\n",
              "      <td>-0.227116</td>\n",
              "      <td>0.069410</td>\n",
              "      <td>1.000000</td>\n",
              "      <td>0.061119</td>\n",
              "      <td>0.012317</td>\n",
              "    </tr>\n",
              "    <tr>\n",
              "      <th>rain</th>\n",
              "      <td>0.065387</td>\n",
              "      <td>0.033234</td>\n",
              "      <td>0.013438</td>\n",
              "      <td>-0.048340</td>\n",
              "      <td>0.056702</td>\n",
              "      <td>0.074790</td>\n",
              "      <td>0.035861</td>\n",
              "      <td>0.067668</td>\n",
              "      <td>0.069491</td>\n",
              "      <td>0.099751</td>\n",
              "      <td>0.061119</td>\n",
              "      <td>1.000000</td>\n",
              "      <td>-0.007366</td>\n",
              "    </tr>\n",
              "    <tr>\n",
              "      <th>area</th>\n",
              "      <td>0.063385</td>\n",
              "      <td>0.044873</td>\n",
              "      <td>0.056496</td>\n",
              "      <td>0.023226</td>\n",
              "      <td>0.040122</td>\n",
              "      <td>0.072994</td>\n",
              "      <td>0.049383</td>\n",
              "      <td>0.008258</td>\n",
              "      <td>0.097844</td>\n",
              "      <td>-0.075519</td>\n",
              "      <td>0.012317</td>\n",
              "      <td>-0.007366</td>\n",
              "      <td>1.000000</td>\n",
              "    </tr>\n",
              "  </tbody>\n",
              "</table>\n",
              "</div>"
            ],
            "text/plain": [
              "              X         Y     month  ...      wind      rain      area\n",
              "X      1.000000  0.539548 -0.065003  ...  0.018798  0.065387  0.063385\n",
              "Y      0.539548  1.000000 -0.066292  ... -0.020341  0.033234  0.044873\n",
              "month -0.065003 -0.066292  1.000000  ... -0.086368  0.013438  0.056496\n",
              "day   -0.024922 -0.005453 -0.050837  ...  0.032478 -0.048340  0.023226\n",
              "FFMC  -0.021039 -0.046308  0.291477  ... -0.028485  0.056702  0.040122\n",
              "DMC   -0.048384  0.007782  0.466645  ... -0.105342  0.074790  0.072994\n",
              "DC    -0.085916 -0.101178  0.868698  ... -0.203466  0.035861  0.049383\n",
              "ISI    0.006210 -0.024488  0.186597  ...  0.106826  0.067668  0.008258\n",
              "temp  -0.051258 -0.024103  0.368842  ... -0.227116  0.069491  0.097844\n",
              "RH     0.085223  0.062221 -0.095280  ...  0.069410  0.099751 -0.075519\n",
              "wind   0.018798 -0.020341 -0.086368  ...  1.000000  0.061119  0.012317\n",
              "rain   0.065387  0.033234  0.013438  ...  0.061119  1.000000 -0.007366\n",
              "area   0.063385  0.044873  0.056496  ...  0.012317 -0.007366  1.000000\n",
              "\n",
              "[13 rows x 13 columns]"
            ]
          },
          "metadata": {
            "tags": []
          },
          "execution_count": 16
        }
      ]
    },
    {
      "cell_type": "code",
      "metadata": {
        "id": "iW94DCBxTcnD",
        "colab": {
          "base_uri": "https://localhost:8080/",
          "height": 391
        },
        "outputId": "0d4a1c5c-9beb-4234-bf76-489e56a0cdaf"
      },
      "source": [
        "fire_std = StandardScaler().fit_transform(fire)\n",
        "fire_std = pd.DataFrame(fire_std)\n",
        "fire_std"
      ],
      "execution_count": null,
      "outputs": [
        {
          "output_type": "execute_result",
          "data": {
            "text/html": [
              "<div>\n",
              "<style scoped>\n",
              "    .dataframe tbody tr th:only-of-type {\n",
              "        vertical-align: middle;\n",
              "    }\n",
              "\n",
              "    .dataframe tbody tr th {\n",
              "        vertical-align: top;\n",
              "    }\n",
              "\n",
              "    .dataframe thead th {\n",
              "        text-align: right;\n",
              "    }\n",
              "</style>\n",
              "<table border=\"1\" class=\"dataframe\">\n",
              "  <thead>\n",
              "    <tr style=\"text-align: right;\">\n",
              "      <th></th>\n",
              "      <th>0</th>\n",
              "      <th>1</th>\n",
              "      <th>2</th>\n",
              "      <th>3</th>\n",
              "      <th>4</th>\n",
              "      <th>5</th>\n",
              "      <th>6</th>\n",
              "      <th>7</th>\n",
              "      <th>8</th>\n",
              "      <th>9</th>\n",
              "      <th>10</th>\n",
              "      <th>11</th>\n",
              "      <th>12</th>\n",
              "    </tr>\n",
              "  </thead>\n",
              "  <tbody>\n",
              "    <tr>\n",
              "      <th>0</th>\n",
              "      <td>1.008313</td>\n",
              "      <td>0.569860</td>\n",
              "      <td>-1.968443</td>\n",
              "      <td>0.357721</td>\n",
              "      <td>-0.805959</td>\n",
              "      <td>-1.323326</td>\n",
              "      <td>-1.830477</td>\n",
              "      <td>-0.860946</td>\n",
              "      <td>-1.842640</td>\n",
              "      <td>0.411724</td>\n",
              "      <td>1.498614</td>\n",
              "      <td>-0.073268</td>\n",
              "      <td>-0.202020</td>\n",
              "    </tr>\n",
              "    <tr>\n",
              "      <th>1</th>\n",
              "      <td>1.008313</td>\n",
              "      <td>-0.244001</td>\n",
              "      <td>1.110120</td>\n",
              "      <td>-1.090909</td>\n",
              "      <td>-0.008102</td>\n",
              "      <td>-1.179541</td>\n",
              "      <td>0.488891</td>\n",
              "      <td>-0.509688</td>\n",
              "      <td>-0.153278</td>\n",
              "      <td>-0.692456</td>\n",
              "      <td>-1.741756</td>\n",
              "      <td>-0.073268</td>\n",
              "      <td>-0.202020</td>\n",
              "    </tr>\n",
              "    <tr>\n",
              "      <th>2</th>\n",
              "      <td>1.008313</td>\n",
              "      <td>-0.244001</td>\n",
              "      <td>1.110120</td>\n",
              "      <td>0.840597</td>\n",
              "      <td>-0.008102</td>\n",
              "      <td>-1.049822</td>\n",
              "      <td>0.560715</td>\n",
              "      <td>-0.509688</td>\n",
              "      <td>-0.739383</td>\n",
              "      <td>-0.692456</td>\n",
              "      <td>-1.518282</td>\n",
              "      <td>-0.073268</td>\n",
              "      <td>-0.202020</td>\n",
              "    </tr>\n",
              "    <tr>\n",
              "      <th>3</th>\n",
              "      <td>1.440925</td>\n",
              "      <td>1.383722</td>\n",
              "      <td>-1.968443</td>\n",
              "      <td>0.357721</td>\n",
              "      <td>0.191362</td>\n",
              "      <td>-1.212361</td>\n",
              "      <td>-1.898266</td>\n",
              "      <td>-0.004756</td>\n",
              "      <td>-1.825402</td>\n",
              "      <td>3.233519</td>\n",
              "      <td>-0.009834</td>\n",
              "      <td>0.603155</td>\n",
              "      <td>-0.202020</td>\n",
              "    </tr>\n",
              "    <tr>\n",
              "      <th>4</th>\n",
              "      <td>1.440925</td>\n",
              "      <td>1.383722</td>\n",
              "      <td>-1.968443</td>\n",
              "      <td>1.323474</td>\n",
              "      <td>-0.243833</td>\n",
              "      <td>-0.931043</td>\n",
              "      <td>-1.798600</td>\n",
              "      <td>0.126966</td>\n",
              "      <td>-1.291012</td>\n",
              "      <td>3.356206</td>\n",
              "      <td>-1.238940</td>\n",
              "      <td>-0.073268</td>\n",
              "      <td>-0.202020</td>\n",
              "    </tr>\n",
              "    <tr>\n",
              "      <th>...</th>\n",
              "      <td>...</td>\n",
              "      <td>...</td>\n",
              "      <td>...</td>\n",
              "      <td>...</td>\n",
              "      <td>...</td>\n",
              "      <td>...</td>\n",
              "      <td>...</td>\n",
              "      <td>...</td>\n",
              "      <td>...</td>\n",
              "      <td>...</td>\n",
              "      <td>...</td>\n",
              "      <td>...</td>\n",
              "      <td>...</td>\n",
              "    </tr>\n",
              "    <tr>\n",
              "      <th>512</th>\n",
              "      <td>-0.289524</td>\n",
              "      <td>-1.057862</td>\n",
              "      <td>0.230531</td>\n",
              "      <td>1.323474</td>\n",
              "      <td>-1.640083</td>\n",
              "      <td>-0.846648</td>\n",
              "      <td>0.474768</td>\n",
              "      <td>-1.563460</td>\n",
              "      <td>1.536084</td>\n",
              "      <td>-0.753800</td>\n",
              "      <td>-0.736124</td>\n",
              "      <td>-0.073268</td>\n",
              "      <td>-0.100753</td>\n",
              "    </tr>\n",
              "    <tr>\n",
              "      <th>513</th>\n",
              "      <td>-1.154748</td>\n",
              "      <td>-0.244001</td>\n",
              "      <td>0.230531</td>\n",
              "      <td>1.323474</td>\n",
              "      <td>-1.640083</td>\n",
              "      <td>-0.846648</td>\n",
              "      <td>0.474768</td>\n",
              "      <td>-1.563460</td>\n",
              "      <td>0.519019</td>\n",
              "      <td>1.638592</td>\n",
              "      <td>0.995798</td>\n",
              "      <td>-0.073268</td>\n",
              "      <td>0.651674</td>\n",
              "    </tr>\n",
              "    <tr>\n",
              "      <th>514</th>\n",
              "      <td>1.008313</td>\n",
              "      <td>-0.244001</td>\n",
              "      <td>0.230531</td>\n",
              "      <td>1.323474</td>\n",
              "      <td>-1.640083</td>\n",
              "      <td>-0.846648</td>\n",
              "      <td>0.474768</td>\n",
              "      <td>-1.563460</td>\n",
              "      <td>0.398350</td>\n",
              "      <td>1.577248</td>\n",
              "      <td>1.498614</td>\n",
              "      <td>-0.073268</td>\n",
              "      <td>-0.026532</td>\n",
              "    </tr>\n",
              "    <tr>\n",
              "      <th>515</th>\n",
              "      <td>-1.587360</td>\n",
              "      <td>-0.244001</td>\n",
              "      <td>0.230531</td>\n",
              "      <td>0.840597</td>\n",
              "      <td>0.680957</td>\n",
              "      <td>0.549003</td>\n",
              "      <td>0.269382</td>\n",
              "      <td>0.500176</td>\n",
              "      <td>1.156839</td>\n",
              "      <td>-0.140366</td>\n",
              "      <td>-0.009834</td>\n",
              "      <td>-0.073268</td>\n",
              "      <td>-0.202020</td>\n",
              "    </tr>\n",
              "    <tr>\n",
              "      <th>516</th>\n",
              "      <td>0.575701</td>\n",
              "      <td>-1.057862</td>\n",
              "      <td>1.549915</td>\n",
              "      <td>-1.090909</td>\n",
              "      <td>-2.020879</td>\n",
              "      <td>-1.685913</td>\n",
              "      <td>-1.780442</td>\n",
              "      <td>-1.739089</td>\n",
              "      <td>-1.222058</td>\n",
              "      <td>-0.815143</td>\n",
              "      <td>0.269509</td>\n",
              "      <td>-0.073268</td>\n",
              "      <td>-0.202020</td>\n",
              "    </tr>\n",
              "  </tbody>\n",
              "</table>\n",
              "<p>517 rows × 13 columns</p>\n",
              "</div>"
            ],
            "text/plain": [
              "           0         1         2   ...        10        11        12\n",
              "0    1.008313  0.569860 -1.968443  ...  1.498614 -0.073268 -0.202020\n",
              "1    1.008313 -0.244001  1.110120  ... -1.741756 -0.073268 -0.202020\n",
              "2    1.008313 -0.244001  1.110120  ... -1.518282 -0.073268 -0.202020\n",
              "3    1.440925  1.383722 -1.968443  ... -0.009834  0.603155 -0.202020\n",
              "4    1.440925  1.383722 -1.968443  ... -1.238940 -0.073268 -0.202020\n",
              "..        ...       ...       ...  ...       ...       ...       ...\n",
              "512 -0.289524 -1.057862  0.230531  ... -0.736124 -0.073268 -0.100753\n",
              "513 -1.154748 -0.244001  0.230531  ...  0.995798 -0.073268  0.651674\n",
              "514  1.008313 -0.244001  0.230531  ...  1.498614 -0.073268 -0.026532\n",
              "515 -1.587360 -0.244001  0.230531  ... -0.009834 -0.073268 -0.202020\n",
              "516  0.575701 -1.057862  1.549915  ...  0.269509 -0.073268 -0.202020\n",
              "\n",
              "[517 rows x 13 columns]"
            ]
          },
          "metadata": {
            "tags": []
          },
          "execution_count": 17
        }
      ]
    },
    {
      "cell_type": "markdown",
      "metadata": {
        "id": "gZwJboVfWw-y"
      },
      "source": [
        "##Eigen Values & Vectors"
      ]
    },
    {
      "cell_type": "code",
      "metadata": {
        "id": "wvu2AYtyTcnN"
      },
      "source": [
        "cov_mat= np.cov(fire_std, rowvar=False)"
      ],
      "execution_count": null,
      "outputs": []
    },
    {
      "cell_type": "code",
      "metadata": {
        "id": "x1rMJEIcTcnS"
      },
      "source": [
        "eig_vals, eig_vecs = np.linalg.eig(cov_mat)\n",
        "# print('Eigenvectors \\n%s' %eig_vecs)\n",
        "# print('\\nEigenvalues \\n%s' %eig_vals)\n",
        "cols = ['X','Y','month','day','FFMC','DMC','DC','ISI','Temp','RH','wind','rain','area']"
      ],
      "execution_count": null,
      "outputs": []
    },
    {
      "cell_type": "markdown",
      "metadata": {
        "id": "MD4Nw4pcsq7B"
      },
      "source": [
        "###Eigen Vectors"
      ]
    },
    {
      "cell_type": "code",
      "metadata": {
        "colab": {
          "base_uri": "https://localhost:8080/",
          "height": 453
        },
        "id": "0a1FEkNmq5cI",
        "outputId": "c2a4151f-c227-43ab-cf55-dfdee40b8d04"
      },
      "source": [
        "print(\"Eigen Vectors \\n\")\n",
        "eigen_vector = pd.DataFrame(data=eig_vecs, columns=cols, index=cols)\n",
        "eigen_vector"
      ],
      "execution_count": null,
      "outputs": [
        {
          "output_type": "stream",
          "text": [
            "Eigen Vectors \n",
            "\n"
          ],
          "name": "stdout"
        },
        {
          "output_type": "execute_result",
          "data": {
            "text/html": [
              "<div>\n",
              "<style scoped>\n",
              "    .dataframe tbody tr th:only-of-type {\n",
              "        vertical-align: middle;\n",
              "    }\n",
              "\n",
              "    .dataframe tbody tr th {\n",
              "        vertical-align: top;\n",
              "    }\n",
              "\n",
              "    .dataframe thead th {\n",
              "        text-align: right;\n",
              "    }\n",
              "</style>\n",
              "<table border=\"1\" class=\"dataframe\">\n",
              "  <thead>\n",
              "    <tr style=\"text-align: right;\">\n",
              "      <th></th>\n",
              "      <th>X</th>\n",
              "      <th>Y</th>\n",
              "      <th>month</th>\n",
              "      <th>day</th>\n",
              "      <th>FFMC</th>\n",
              "      <th>DMC</th>\n",
              "      <th>DC</th>\n",
              "      <th>ISI</th>\n",
              "      <th>Temp</th>\n",
              "      <th>RH</th>\n",
              "      <th>wind</th>\n",
              "      <th>rain</th>\n",
              "      <th>area</th>\n",
              "    </tr>\n",
              "  </thead>\n",
              "  <tbody>\n",
              "    <tr>\n",
              "      <th>X</th>\n",
              "      <td>-0.068572</td>\n",
              "      <td>-0.678415</td>\n",
              "      <td>-0.047096</td>\n",
              "      <td>-0.017514</td>\n",
              "      <td>-0.051630</td>\n",
              "      <td>-0.588612</td>\n",
              "      <td>0.161530</td>\n",
              "      <td>0.359487</td>\n",
              "      <td>0.089265</td>\n",
              "      <td>-0.079728</td>\n",
              "      <td>-0.104094</td>\n",
              "      <td>0.051667</td>\n",
              "      <td>-0.015618</td>\n",
              "    </tr>\n",
              "    <tr>\n",
              "      <th>Y</th>\n",
              "      <td>-0.063425</td>\n",
              "      <td>-0.669443</td>\n",
              "      <td>-0.035648</td>\n",
              "      <td>0.059043</td>\n",
              "      <td>0.029131</td>\n",
              "      <td>0.588234</td>\n",
              "      <td>-0.181627</td>\n",
              "      <td>-0.328023</td>\n",
              "      <td>0.158072</td>\n",
              "      <td>-0.091690</td>\n",
              "      <td>-0.082510</td>\n",
              "      <td>0.121178</td>\n",
              "      <td>0.026931</td>\n",
              "    </tr>\n",
              "    <tr>\n",
              "      <th>month</th>\n",
              "      <td>0.409152</td>\n",
              "      <td>0.000185</td>\n",
              "      <td>0.329556</td>\n",
              "      <td>-0.574598</td>\n",
              "      <td>-0.002246</td>\n",
              "      <td>0.259286</td>\n",
              "      <td>0.012462</td>\n",
              "      <td>0.370065</td>\n",
              "      <td>0.088248</td>\n",
              "      <td>-0.325254</td>\n",
              "      <td>-0.221746</td>\n",
              "      <td>-0.138470</td>\n",
              "      <td>-0.086973</td>\n",
              "    </tr>\n",
              "    <tr>\n",
              "      <th>day</th>\n",
              "      <td>0.001375</td>\n",
              "      <td>0.006958</td>\n",
              "      <td>0.087577</td>\n",
              "      <td>-0.005730</td>\n",
              "      <td>-0.063881</td>\n",
              "      <td>0.040625</td>\n",
              "      <td>-0.110468</td>\n",
              "      <td>0.196407</td>\n",
              "      <td>-0.172442</td>\n",
              "      <td>-0.249318</td>\n",
              "      <td>0.301184</td>\n",
              "      <td>0.313482</td>\n",
              "      <td>0.809234</td>\n",
              "    </tr>\n",
              "    <tr>\n",
              "      <th>FFMC</th>\n",
              "      <td>0.359604</td>\n",
              "      <td>-0.054320</td>\n",
              "      <td>-0.324330</td>\n",
              "      <td>0.022368</td>\n",
              "      <td>0.207399</td>\n",
              "      <td>-0.056840</td>\n",
              "      <td>-0.708500</td>\n",
              "      <td>0.254909</td>\n",
              "      <td>-0.215954</td>\n",
              "      <td>0.287696</td>\n",
              "      <td>-0.096333</td>\n",
              "      <td>0.082615</td>\n",
              "      <td>-0.057777</td>\n",
              "    </tr>\n",
              "    <tr>\n",
              "      <th>DMC</th>\n",
              "      <td>0.406659</td>\n",
              "      <td>-0.109404</td>\n",
              "      <td>0.274271</td>\n",
              "      <td>-0.227122</td>\n",
              "      <td>-0.420042</td>\n",
              "      <td>-0.332971</td>\n",
              "      <td>-0.122129</td>\n",
              "      <td>-0.582447</td>\n",
              "      <td>-0.113045</td>\n",
              "      <td>0.179667</td>\n",
              "      <td>0.018188</td>\n",
              "      <td>0.033481</td>\n",
              "      <td>0.088735</td>\n",
              "    </tr>\n",
              "    <tr>\n",
              "      <th>DC</th>\n",
              "      <td>0.464118</td>\n",
              "      <td>-0.001341</td>\n",
              "      <td>0.370347</td>\n",
              "      <td>0.769682</td>\n",
              "      <td>-0.004073</td>\n",
              "      <td>0.019939</td>\n",
              "      <td>0.048604</td>\n",
              "      <td>0.106662</td>\n",
              "      <td>0.086876</td>\n",
              "      <td>-0.149179</td>\n",
              "      <td>-0.089450</td>\n",
              "      <td>-0.044595</td>\n",
              "      <td>-0.032864</td>\n",
              "    </tr>\n",
              "    <tr>\n",
              "      <th>ISI</th>\n",
              "      <td>0.293931</td>\n",
              "      <td>-0.096978</td>\n",
              "      <td>-0.311652</td>\n",
              "      <td>0.017721</td>\n",
              "      <td>-0.218091</td>\n",
              "      <td>0.285830</td>\n",
              "      <td>0.563047</td>\n",
              "      <td>0.144026</td>\n",
              "      <td>-0.437448</td>\n",
              "      <td>0.331906</td>\n",
              "      <td>-0.126015</td>\n",
              "      <td>0.142395</td>\n",
              "      <td>0.045308</td>\n",
              "    </tr>\n",
              "    <tr>\n",
              "      <th>Temp</th>\n",
              "      <td>0.421790</td>\n",
              "      <td>-0.019008</td>\n",
              "      <td>-0.275564</td>\n",
              "      <td>-0.108881</td>\n",
              "      <td>0.649581</td>\n",
              "      <td>-0.148345</td>\n",
              "      <td>0.286736</td>\n",
              "      <td>-0.295491</td>\n",
              "      <td>0.169405</td>\n",
              "      <td>-0.166728</td>\n",
              "      <td>0.231378</td>\n",
              "      <td>0.077142</td>\n",
              "      <td>0.066816</td>\n",
              "    </tr>\n",
              "    <tr>\n",
              "      <th>RH</th>\n",
              "      <td>-0.179146</td>\n",
              "      <td>-0.135112</td>\n",
              "      <td>0.606614</td>\n",
              "      <td>-0.066914</td>\n",
              "      <td>0.526938</td>\n",
              "      <td>0.012635</td>\n",
              "      <td>0.076377</td>\n",
              "      <td>0.011544</td>\n",
              "      <td>-0.325274</td>\n",
              "      <td>0.427809</td>\n",
              "      <td>-0.025759</td>\n",
              "      <td>0.051007</td>\n",
              "      <td>0.036249</td>\n",
              "    </tr>\n",
              "    <tr>\n",
              "      <th>wind</th>\n",
              "      <td>-0.110789</td>\n",
              "      <td>-0.023467</td>\n",
              "      <td>-0.107137</td>\n",
              "      <td>0.068153</td>\n",
              "      <td>0.132042</td>\n",
              "      <td>-0.104288</td>\n",
              "      <td>-0.042402</td>\n",
              "      <td>-0.230967</td>\n",
              "      <td>-0.615420</td>\n",
              "      <td>-0.495823</td>\n",
              "      <td>-0.393871</td>\n",
              "      <td>-0.321802</td>\n",
              "      <td>0.065748</td>\n",
              "    </tr>\n",
              "    <tr>\n",
              "      <th>rain</th>\n",
              "      <td>0.039047</td>\n",
              "      <td>-0.175805</td>\n",
              "      <td>0.058739</td>\n",
              "      <td>0.004032</td>\n",
              "      <td>-0.091157</td>\n",
              "      <td>0.073266</td>\n",
              "      <td>-0.047157</td>\n",
              "      <td>0.087193</td>\n",
              "      <td>-0.369887</td>\n",
              "      <td>-0.188280</td>\n",
              "      <td>0.762358</td>\n",
              "      <td>-0.154974</td>\n",
              "      <td>-0.403887</td>\n",
              "    </tr>\n",
              "    <tr>\n",
              "      <th>area</th>\n",
              "      <td>0.059845</td>\n",
              "      <td>-0.130958</td>\n",
              "      <td>-0.081796</td>\n",
              "      <td>0.014465</td>\n",
              "      <td>0.002354</td>\n",
              "      <td>0.063488</td>\n",
              "      <td>0.014756</td>\n",
              "      <td>0.053912</td>\n",
              "      <td>0.145390</td>\n",
              "      <td>0.278767</td>\n",
              "      <td>0.135861</td>\n",
              "      <td>-0.835981</td>\n",
              "      <td>0.386052</td>\n",
              "    </tr>\n",
              "  </tbody>\n",
              "</table>\n",
              "</div>"
            ],
            "text/plain": [
              "              X         Y     month  ...      wind      rain      area\n",
              "X     -0.068572 -0.678415 -0.047096  ... -0.104094  0.051667 -0.015618\n",
              "Y     -0.063425 -0.669443 -0.035648  ... -0.082510  0.121178  0.026931\n",
              "month  0.409152  0.000185  0.329556  ... -0.221746 -0.138470 -0.086973\n",
              "day    0.001375  0.006958  0.087577  ...  0.301184  0.313482  0.809234\n",
              "FFMC   0.359604 -0.054320 -0.324330  ... -0.096333  0.082615 -0.057777\n",
              "DMC    0.406659 -0.109404  0.274271  ...  0.018188  0.033481  0.088735\n",
              "DC     0.464118 -0.001341  0.370347  ... -0.089450 -0.044595 -0.032864\n",
              "ISI    0.293931 -0.096978 -0.311652  ... -0.126015  0.142395  0.045308\n",
              "Temp   0.421790 -0.019008 -0.275564  ...  0.231378  0.077142  0.066816\n",
              "RH    -0.179146 -0.135112  0.606614  ... -0.025759  0.051007  0.036249\n",
              "wind  -0.110789 -0.023467 -0.107137  ... -0.393871 -0.321802  0.065748\n",
              "rain   0.039047 -0.175805  0.058739  ...  0.762358 -0.154974 -0.403887\n",
              "area   0.059845 -0.130958 -0.081796  ...  0.135861 -0.835981  0.386052\n",
              "\n",
              "[13 rows x 13 columns]"
            ]
          },
          "metadata": {
            "tags": []
          },
          "execution_count": 20
        }
      ]
    },
    {
      "cell_type": "markdown",
      "metadata": {
        "id": "nl41XqBtsxhd"
      },
      "source": [
        "###Eigen Values"
      ]
    },
    {
      "cell_type": "code",
      "metadata": {
        "colab": {
          "base_uri": "https://localhost:8080/",
          "height": 108
        },
        "id": "ATOwaEQipuLm",
        "outputId": "4335435f-e858-46f0-fe06-0942e8aa1e1d"
      },
      "source": [
        "print(\"Eigen Values \\n\")\n",
        "eigen_value = pd.DataFrame(data=eig_vals.reshape(1,len(eig_vals)), index=['Eigen Value'], columns=cols)\n",
        "eigen_value"
      ],
      "execution_count": null,
      "outputs": [
        {
          "output_type": "stream",
          "text": [
            "Eigen Values \n",
            "\n"
          ],
          "name": "stdout"
        },
        {
          "output_type": "execute_result",
          "data": {
            "text/html": [
              "<div>\n",
              "<style scoped>\n",
              "    .dataframe tbody tr th:only-of-type {\n",
              "        vertical-align: middle;\n",
              "    }\n",
              "\n",
              "    .dataframe tbody tr th {\n",
              "        vertical-align: top;\n",
              "    }\n",
              "\n",
              "    .dataframe thead th {\n",
              "        text-align: right;\n",
              "    }\n",
              "</style>\n",
              "<table border=\"1\" class=\"dataframe\">\n",
              "  <thead>\n",
              "    <tr style=\"text-align: right;\">\n",
              "      <th></th>\n",
              "      <th>X</th>\n",
              "      <th>Y</th>\n",
              "      <th>month</th>\n",
              "      <th>day</th>\n",
              "      <th>FFMC</th>\n",
              "      <th>DMC</th>\n",
              "      <th>DC</th>\n",
              "      <th>ISI</th>\n",
              "      <th>Temp</th>\n",
              "      <th>RH</th>\n",
              "      <th>wind</th>\n",
              "      <th>rain</th>\n",
              "      <th>area</th>\n",
              "    </tr>\n",
              "  </thead>\n",
              "  <tbody>\n",
              "    <tr>\n",
              "      <th>Eigen Value</th>\n",
              "      <td>3.321741</td>\n",
              "      <td>1.572326</td>\n",
              "      <td>1.43966</td>\n",
              "      <td>0.075711</td>\n",
              "      <td>0.21225</td>\n",
              "      <td>0.436096</td>\n",
              "      <td>0.46198</td>\n",
              "      <td>0.526791</td>\n",
              "      <td>1.234709</td>\n",
              "      <td>0.762407</td>\n",
              "      <td>0.930325</td>\n",
              "      <td>0.985427</td>\n",
              "      <td>1.065772</td>\n",
              "    </tr>\n",
              "  </tbody>\n",
              "</table>\n",
              "</div>"
            ],
            "text/plain": [
              "                    X         Y    month  ...      wind      rain      area\n",
              "Eigen Value  3.321741  1.572326  1.43966  ...  0.930325  0.985427  1.065772\n",
              "\n",
              "[1 rows x 13 columns]"
            ]
          },
          "metadata": {
            "tags": []
          },
          "execution_count": 21
        }
      ]
    },
    {
      "cell_type": "code",
      "metadata": {
        "id": "CUgVoUoBTcnX",
        "colab": {
          "base_uri": "https://localhost:8080/"
        },
        "outputId": "7c8fd2ca-58da-4021-fd11-92c4ad268cb7"
      },
      "source": [
        "variances=np.var(cov_mat)\n",
        "variances"
      ],
      "execution_count": null,
      "outputs": [
        {
          "output_type": "execute_result",
          "data": {
            "text/plain": [
              "0.10399141225298428"
            ]
          },
          "metadata": {
            "tags": []
          },
          "execution_count": 22
        }
      ]
    },
    {
      "cell_type": "markdown",
      "metadata": {
        "id": "robYrjNRXUmU"
      },
      "source": [
        "#Applying K-Means Clustering"
      ]
    },
    {
      "cell_type": "code",
      "metadata": {
        "id": "hUyMHlkhqt0n"
      },
      "source": [
        "from sklearn.cluster import KMeans\n",
        "import random"
      ],
      "execution_count": null,
      "outputs": []
    },
    {
      "cell_type": "markdown",
      "metadata": {
        "id": "m7LJp_VPXeCd"
      },
      "source": [
        "##Initial Centroid Classes"
      ]
    },
    {
      "cell_type": "code",
      "metadata": {
        "id": "tI2HDShU9ow-"
      },
      "source": [
        "kmeans = KMeans(n_clusters=5, max_iter=100, n_init=20, precompute_distances=False, init='random')"
      ],
      "execution_count": null,
      "outputs": []
    },
    {
      "cell_type": "code",
      "metadata": {
        "colab": {
          "base_uri": "https://localhost:8080/"
        },
        "id": "_aUurvYe9uKp",
        "outputId": "636aa09b-7b7f-4d09-9ffb-4a7390f24c68"
      },
      "source": [
        "kmeans.fit(fire)"
      ],
      "execution_count": null,
      "outputs": [
        {
          "output_type": "execute_result",
          "data": {
            "text/plain": [
              "KMeans(algorithm='auto', copy_x=True, init='random', max_iter=100, n_clusters=5,\n",
              "       n_init=20, n_jobs=None, precompute_distances=False, random_state=None,\n",
              "       tol=0.0001, verbose=0)"
            ]
          },
          "metadata": {
            "tags": []
          },
          "execution_count": 25
        }
      ]
    },
    {
      "cell_type": "code",
      "metadata": {
        "colab": {
          "base_uri": "https://localhost:8080/",
          "height": 191
        },
        "id": "RiuWNBGB95Ss",
        "outputId": "6217ed42-1d1f-4f08-9755-7604821f7146"
      },
      "source": [
        "kmeans_df=pd.DataFrame(data=kmeans.cluster_centers_, columns=cols)\n",
        "kmeans_df.index = kmeans_df.index+1\n",
        "kmeans_df"
      ],
      "execution_count": null,
      "outputs": [
        {
          "output_type": "execute_result",
          "data": {
            "text/html": [
              "<div>\n",
              "<style scoped>\n",
              "    .dataframe tbody tr th:only-of-type {\n",
              "        vertical-align: middle;\n",
              "    }\n",
              "\n",
              "    .dataframe tbody tr th {\n",
              "        vertical-align: top;\n",
              "    }\n",
              "\n",
              "    .dataframe thead th {\n",
              "        text-align: right;\n",
              "    }\n",
              "</style>\n",
              "<table border=\"1\" class=\"dataframe\">\n",
              "  <thead>\n",
              "    <tr style=\"text-align: right;\">\n",
              "      <th></th>\n",
              "      <th>X</th>\n",
              "      <th>Y</th>\n",
              "      <th>month</th>\n",
              "      <th>day</th>\n",
              "      <th>FFMC</th>\n",
              "      <th>DMC</th>\n",
              "      <th>DC</th>\n",
              "      <th>ISI</th>\n",
              "      <th>Temp</th>\n",
              "      <th>RH</th>\n",
              "      <th>wind</th>\n",
              "      <th>rain</th>\n",
              "      <th>area</th>\n",
              "    </tr>\n",
              "  </thead>\n",
              "  <tbody>\n",
              "    <tr>\n",
              "      <th>1</th>\n",
              "      <td>4.416107</td>\n",
              "      <td>4.107383</td>\n",
              "      <td>8.697987</td>\n",
              "      <td>4.510067</td>\n",
              "      <td>92.028188</td>\n",
              "      <td>157.132215</td>\n",
              "      <td>753.135570</td>\n",
              "      <td>8.869799</td>\n",
              "      <td>20.391275</td>\n",
              "      <td>44.550336</td>\n",
              "      <td>3.650336</td>\n",
              "      <td>0.016107</td>\n",
              "      <td>7.954027</td>\n",
              "    </tr>\n",
              "    <tr>\n",
              "      <th>2</th>\n",
              "      <td>5.338710</td>\n",
              "      <td>4.693548</td>\n",
              "      <td>7.548387</td>\n",
              "      <td>4.161290</td>\n",
              "      <td>89.904839</td>\n",
              "      <td>83.898387</td>\n",
              "      <td>388.906452</td>\n",
              "      <td>8.622581</td>\n",
              "      <td>18.411290</td>\n",
              "      <td>43.774194</td>\n",
              "      <td>4.495161</td>\n",
              "      <td>0.003226</td>\n",
              "      <td>12.817742</td>\n",
              "    </tr>\n",
              "    <tr>\n",
              "      <th>3</th>\n",
              "      <td>4.525581</td>\n",
              "      <td>4.255814</td>\n",
              "      <td>8.423256</td>\n",
              "      <td>4.074419</td>\n",
              "      <td>91.493488</td>\n",
              "      <td>120.870698</td>\n",
              "      <td>648.973023</td>\n",
              "      <td>10.277674</td>\n",
              "      <td>20.651163</td>\n",
              "      <td>43.623256</td>\n",
              "      <td>3.896744</td>\n",
              "      <td>0.039070</td>\n",
              "      <td>10.910791</td>\n",
              "    </tr>\n",
              "    <tr>\n",
              "      <th>4</th>\n",
              "      <td>7.000000</td>\n",
              "      <td>5.500000</td>\n",
              "      <td>8.500000</td>\n",
              "      <td>5.000000</td>\n",
              "      <td>93.650000</td>\n",
              "      <td>171.750000</td>\n",
              "      <td>686.500000</td>\n",
              "      <td>11.250000</td>\n",
              "      <td>26.300000</td>\n",
              "      <td>27.000000</td>\n",
              "      <td>4.450000</td>\n",
              "      <td>0.000000</td>\n",
              "      <td>918.560000</td>\n",
              "    </tr>\n",
              "    <tr>\n",
              "      <th>5</th>\n",
              "      <td>4.921348</td>\n",
              "      <td>4.426966</td>\n",
              "      <td>3.067416</td>\n",
              "      <td>4.337079</td>\n",
              "      <td>86.725843</td>\n",
              "      <td>26.695506</td>\n",
              "      <td>68.015730</td>\n",
              "      <td>6.469663</td>\n",
              "      <td>12.284270</td>\n",
              "      <td>46.202247</td>\n",
              "      <td>4.582022</td>\n",
              "      <td>0.002247</td>\n",
              "      <td>5.384944</td>\n",
              "    </tr>\n",
              "  </tbody>\n",
              "</table>\n",
              "</div>"
            ],
            "text/plain": [
              "          X         Y     month  ...      wind      rain        area\n",
              "1  4.416107  4.107383  8.697987  ...  3.650336  0.016107    7.954027\n",
              "2  5.338710  4.693548  7.548387  ...  4.495161  0.003226   12.817742\n",
              "3  4.525581  4.255814  8.423256  ...  3.896744  0.039070   10.910791\n",
              "4  7.000000  5.500000  8.500000  ...  4.450000  0.000000  918.560000\n",
              "5  4.921348  4.426966  3.067416  ...  4.582022  0.002247    5.384944\n",
              "\n",
              "[5 rows x 13 columns]"
            ]
          },
          "metadata": {
            "tags": []
          },
          "execution_count": 26
        }
      ]
    },
    {
      "cell_type": "markdown",
      "metadata": {
        "id": "DpcRbX4fXiuZ"
      },
      "source": [
        "##Final Centroid Classes"
      ]
    },
    {
      "cell_type": "code",
      "metadata": {
        "id": "YLsenu8PHCCg"
      },
      "source": [
        "kmeans = KMeans(algorithm='full', n_clusters=5, n_init=10, max_iter=300, precompute_distances=True, init='k-means++')"
      ],
      "execution_count": null,
      "outputs": []
    },
    {
      "cell_type": "code",
      "metadata": {
        "colab": {
          "base_uri": "https://localhost:8080/"
        },
        "id": "pH3B8Dr3HKb8",
        "outputId": "6f32b489-a8e8-4ba6-ffab-6b9e0448ae8e"
      },
      "source": [
        "kmeans.fit(fire, sample_weight=2)"
      ],
      "execution_count": null,
      "outputs": [
        {
          "output_type": "execute_result",
          "data": {
            "text/plain": [
              "KMeans(algorithm='full', copy_x=True, init='k-means++', max_iter=300,\n",
              "       n_clusters=5, n_init=10, n_jobs=None, precompute_distances=True,\n",
              "       random_state=None, tol=0.0001, verbose=0)"
            ]
          },
          "metadata": {
            "tags": []
          },
          "execution_count": 28
        }
      ]
    },
    {
      "cell_type": "code",
      "metadata": {
        "colab": {
          "base_uri": "https://localhost:8080/",
          "height": 191
        },
        "id": "rtseP5OvHRtd",
        "outputId": "3e6f9ac4-0d81-4a4d-fc66-662c8ddc9d15"
      },
      "source": [
        "kmeans_df=pd.DataFrame(data=kmeans.cluster_centers_, columns=cols)\n",
        "kmeans_df.index = kmeans_df.index+1\n",
        "kmeans_df"
      ],
      "execution_count": null,
      "outputs": [
        {
          "output_type": "execute_result",
          "data": {
            "text/html": [
              "<div>\n",
              "<style scoped>\n",
              "    .dataframe tbody tr th:only-of-type {\n",
              "        vertical-align: middle;\n",
              "    }\n",
              "\n",
              "    .dataframe tbody tr th {\n",
              "        vertical-align: top;\n",
              "    }\n",
              "\n",
              "    .dataframe thead th {\n",
              "        text-align: right;\n",
              "    }\n",
              "</style>\n",
              "<table border=\"1\" class=\"dataframe\">\n",
              "  <thead>\n",
              "    <tr style=\"text-align: right;\">\n",
              "      <th></th>\n",
              "      <th>X</th>\n",
              "      <th>Y</th>\n",
              "      <th>month</th>\n",
              "      <th>day</th>\n",
              "      <th>FFMC</th>\n",
              "      <th>DMC</th>\n",
              "      <th>DC</th>\n",
              "      <th>ISI</th>\n",
              "      <th>Temp</th>\n",
              "      <th>RH</th>\n",
              "      <th>wind</th>\n",
              "      <th>rain</th>\n",
              "      <th>area</th>\n",
              "    </tr>\n",
              "  </thead>\n",
              "  <tbody>\n",
              "    <tr>\n",
              "      <th>1</th>\n",
              "      <td>5.338710</td>\n",
              "      <td>4.693548</td>\n",
              "      <td>7.548387</td>\n",
              "      <td>4.161290</td>\n",
              "      <td>89.904839</td>\n",
              "      <td>83.898387</td>\n",
              "      <td>388.906452</td>\n",
              "      <td>8.622581</td>\n",
              "      <td>18.411290</td>\n",
              "      <td>43.774194</td>\n",
              "      <td>4.495161</td>\n",
              "      <td>0.003226</td>\n",
              "      <td>12.817742</td>\n",
              "    </tr>\n",
              "    <tr>\n",
              "      <th>2</th>\n",
              "      <td>4.416107</td>\n",
              "      <td>4.107383</td>\n",
              "      <td>8.697987</td>\n",
              "      <td>4.510067</td>\n",
              "      <td>92.028188</td>\n",
              "      <td>157.132215</td>\n",
              "      <td>753.135570</td>\n",
              "      <td>8.869799</td>\n",
              "      <td>20.391275</td>\n",
              "      <td>44.550336</td>\n",
              "      <td>3.650336</td>\n",
              "      <td>0.016107</td>\n",
              "      <td>7.954027</td>\n",
              "    </tr>\n",
              "    <tr>\n",
              "      <th>3</th>\n",
              "      <td>4.525581</td>\n",
              "      <td>4.255814</td>\n",
              "      <td>8.423256</td>\n",
              "      <td>4.074419</td>\n",
              "      <td>91.493488</td>\n",
              "      <td>120.870698</td>\n",
              "      <td>648.973023</td>\n",
              "      <td>10.277674</td>\n",
              "      <td>20.651163</td>\n",
              "      <td>43.623256</td>\n",
              "      <td>3.896744</td>\n",
              "      <td>0.039070</td>\n",
              "      <td>10.910791</td>\n",
              "    </tr>\n",
              "    <tr>\n",
              "      <th>4</th>\n",
              "      <td>4.921348</td>\n",
              "      <td>4.426966</td>\n",
              "      <td>3.067416</td>\n",
              "      <td>4.337079</td>\n",
              "      <td>86.725843</td>\n",
              "      <td>26.695506</td>\n",
              "      <td>68.015730</td>\n",
              "      <td>6.469663</td>\n",
              "      <td>12.284270</td>\n",
              "      <td>46.202247</td>\n",
              "      <td>4.582022</td>\n",
              "      <td>0.002247</td>\n",
              "      <td>5.384944</td>\n",
              "    </tr>\n",
              "    <tr>\n",
              "      <th>5</th>\n",
              "      <td>7.000000</td>\n",
              "      <td>5.500000</td>\n",
              "      <td>8.500000</td>\n",
              "      <td>5.000000</td>\n",
              "      <td>93.650000</td>\n",
              "      <td>171.750000</td>\n",
              "      <td>686.500000</td>\n",
              "      <td>11.250000</td>\n",
              "      <td>26.300000</td>\n",
              "      <td>27.000000</td>\n",
              "      <td>4.450000</td>\n",
              "      <td>0.000000</td>\n",
              "      <td>918.560000</td>\n",
              "    </tr>\n",
              "  </tbody>\n",
              "</table>\n",
              "</div>"
            ],
            "text/plain": [
              "          X         Y     month  ...      wind      rain        area\n",
              "1  5.338710  4.693548  7.548387  ...  4.495161  0.003226   12.817742\n",
              "2  4.416107  4.107383  8.697987  ...  3.650336  0.016107    7.954027\n",
              "3  4.525581  4.255814  8.423256  ...  3.896744  0.039070   10.910791\n",
              "4  4.921348  4.426966  3.067416  ...  4.582022  0.002247    5.384944\n",
              "5  7.000000  5.500000  8.500000  ...  4.450000  0.000000  918.560000\n",
              "\n",
              "[5 rows x 13 columns]"
            ]
          },
          "metadata": {
            "tags": []
          },
          "execution_count": 29
        }
      ]
    },
    {
      "cell_type": "markdown",
      "metadata": {
        "id": "E4kaTVfvDS8f"
      },
      "source": [
        "#Error metric evaluation"
      ]
    },
    {
      "cell_type": "code",
      "metadata": {
        "id": "Ka2SPAJg8-WW"
      },
      "source": [
        "def relative_error(actual, predicted):\n",
        "    res = np.empty(actual.shape)\n",
        "    for j in range(actual.shape[0]):\n",
        "         if actual[j] != 0:\n",
        "            res[j] = (actual[j] - predicted[j]) / actual[j]\n",
        "         else:\n",
        "            res[j] = predicted[j] / np.mean(actual)\n",
        "    return res\n",
        "\n",
        "def relative_absolute_error(y_true, y_pred):\n",
        "    return np.abs(relative_error(np.asarray(y_true), np.asarray(y_pred))).mean() * 100"
      ],
      "execution_count": null,
      "outputs": []
    },
    {
      "cell_type": "markdown",
      "metadata": {
        "id": "RZS9mRZKX_TY"
      },
      "source": [
        "#Further Preprocessing"
      ]
    },
    {
      "cell_type": "code",
      "metadata": {
        "id": "5Hm7_FCQN0oh"
      },
      "source": [
        "del fire['day']"
      ],
      "execution_count": null,
      "outputs": []
    },
    {
      "cell_type": "code",
      "metadata": {
        "id": "rtOflxIf33F8"
      },
      "source": [
        "X = fire.iloc[:, 0:11].values\n",
        "y= fire.iloc[:, 11].values"
      ],
      "execution_count": null,
      "outputs": []
    },
    {
      "cell_type": "markdown",
      "metadata": {
        "id": "6XghDfZ3V4Oe"
      },
      "source": [
        "##Splitting into Train and Test Data"
      ]
    },
    {
      "cell_type": "code",
      "metadata": {
        "id": "9tDgQ1eQ37_e"
      },
      "source": [
        "from sklearn.model_selection import train_test_split\n",
        "X_test, X_train, y_test, y_train = train_test_split(X, y, test_size=0.5, random_state=0)"
      ],
      "execution_count": null,
      "outputs": []
    },
    {
      "cell_type": "markdown",
      "metadata": {
        "id": "o9BXNB0dV-kq"
      },
      "source": [
        "##Feature Scaling using Standard Scalar"
      ]
    },
    {
      "cell_type": "code",
      "metadata": {
        "id": "HEOPqthGVZmn"
      },
      "source": [
        "from sklearn.preprocessing import StandardScaler\n",
        "sc = StandardScaler()\n",
        "sc.fit(X_train)\n",
        "X_train = sc.fit_transform(X_train, y_train)\n",
        "sc.fit(X_test)\n",
        "X_test = sc.fit_transform(X_test, y_test)"
      ],
      "execution_count": null,
      "outputs": []
    },
    {
      "cell_type": "markdown",
      "metadata": {
        "id": "VJrxnfgc-zbN"
      },
      "source": [
        "#Support Vector Machine (SVM)"
      ]
    },
    {
      "cell_type": "code",
      "metadata": {
        "id": "z2hHexGXzCOV"
      },
      "source": [
        "from sklearn.svm import SVC\n",
        "from sklearn.svm import SVR"
      ],
      "execution_count": null,
      "outputs": []
    },
    {
      "cell_type": "code",
      "metadata": {
        "colab": {
          "base_uri": "https://localhost:8080/"
        },
        "id": "kOmbVmHb7J4H",
        "outputId": "41532ba0-5ba9-4742-a8be-9a286e38b444"
      },
      "source": [
        "print('Training set', X_train.shape)\n",
        "print('Testing set', X_test.shape)"
      ],
      "execution_count": null,
      "outputs": [
        {
          "output_type": "stream",
          "text": [
            "Training set (259, 11)\n",
            "Testing set (258, 11)\n"
          ],
          "name": "stdout"
        }
      ]
    },
    {
      "cell_type": "markdown",
      "metadata": {
        "id": "Zta1513jDOEM"
      },
      "source": [
        "##Training Phase"
      ]
    },
    {
      "cell_type": "code",
      "metadata": {
        "colab": {
          "base_uri": "https://localhost:8080/"
        },
        "id": "Sn2zL61eJAYi",
        "outputId": "6fe24846-da63-4a26-c4ef-323eb01a8d68"
      },
      "source": [
        "svm = SVR(kernel = 'rbf', gamma=3800.28665, C=84.1830278, epsilon=0.001)\n",
        "svm.fit(X_train, y_train)"
      ],
      "execution_count": null,
      "outputs": [
        {
          "output_type": "execute_result",
          "data": {
            "text/plain": [
              "SVR(C=84.1830278, cache_size=200, coef0=0.0, degree=3, epsilon=0.001,\n",
              "    gamma=3800.28665, kernel='rbf', max_iter=-1, shrinking=True, tol=0.001,\n",
              "    verbose=False)"
            ]
          },
          "metadata": {
            "tags": []
          },
          "execution_count": 37
        }
      ]
    },
    {
      "cell_type": "code",
      "metadata": {
        "id": "PflHEfy7Ix_Z"
      },
      "source": [
        "y_pred_train = svm.predict(X_train)"
      ],
      "execution_count": null,
      "outputs": []
    },
    {
      "cell_type": "code",
      "metadata": {
        "colab": {
          "base_uri": "https://localhost:8080/"
        },
        "id": "0uFEGf9IZfdl",
        "outputId": "f1f33355-34c3-4260-cdbb-3433667fde50"
      },
      "source": [
        "from sklearn.metrics import mean_absolute_error, mean_squared_error\n",
        "from math import sqrt\n",
        "mse = mean_squared_error(y_train, y_pred_train)\n",
        "rmse = sqrt(mse)\n",
        "mae = mean_absolute_error(y_train, y_pred_train)*100\n",
        "rae = relative_absolute_error(y_train, y_pred_train)*10\n",
        "print(\"RMSE = \",rmse)\n",
        "print(\"MSE = \",mse)\n",
        "print(\"RAE = \",rae)\n",
        "print(\"MAE = \",mae)"
      ],
      "execution_count": null,
      "outputs": [
        {
          "output_type": "stream",
          "text": [
            "RMSE =  62.719548928685036\n",
            "MSE =  3933.7418178177163\n",
            "RAE =  17.347756444273813\n",
            "MAE =  482.4110986787256\n"
          ],
          "name": "stdout"
        }
      ]
    },
    {
      "cell_type": "markdown",
      "metadata": {
        "id": "DbLF2MHmCnXL"
      },
      "source": [
        "##Testing Phase"
      ]
    },
    {
      "cell_type": "code",
      "metadata": {
        "colab": {
          "base_uri": "https://localhost:8080/"
        },
        "id": "-RuBhFNVdNcb",
        "outputId": "13693a03-7b17-4dbe-b234-5a8e9c1375d0"
      },
      "source": [
        "svm = SVR(kernel = 'rbf', gamma=3800.28665, C=84.1830278, epsilon=0.001)\n",
        "svm.fit(X_test, y_test)"
      ],
      "execution_count": null,
      "outputs": [
        {
          "output_type": "execute_result",
          "data": {
            "text/plain": [
              "SVR(C=84.1830278, cache_size=200, coef0=0.0, degree=3, epsilon=0.001,\n",
              "    gamma=3800.28665, kernel='rbf', max_iter=-1, shrinking=True, tol=0.001,\n",
              "    verbose=False)"
            ]
          },
          "metadata": {
            "tags": []
          },
          "execution_count": 40
        }
      ]
    },
    {
      "cell_type": "code",
      "metadata": {
        "id": "Wu7nXPAm_vlE"
      },
      "source": [
        "y_pred_test = svm.predict(X_test)"
      ],
      "execution_count": null,
      "outputs": []
    },
    {
      "cell_type": "code",
      "metadata": {
        "colab": {
          "base_uri": "https://localhost:8080/"
        },
        "id": "s4OBGmwKvFBl",
        "outputId": "19ec484a-41f0-4499-87ee-9468fe80bbac"
      },
      "source": [
        "from sklearn.metrics import mean_absolute_error, mean_squared_error\n",
        "from math import sqrt\n",
        "s_mse = mean_squared_error(y_test, y_pred_test)\n",
        "s_rmse = sqrt(s_mse)\n",
        "s_mae = mean_absolute_error(y_test, y_pred_test)*100\n",
        "s_rae = relative_absolute_error(y_test, y_pred_test)*10\n",
        "print(\"RMSE = \",s_rmse)\n",
        "print(\"MSE = \",s_mse)\n",
        "print(\"RAE = \",s_rae)\n",
        "print(\"MAE = \",s_mae)"
      ],
      "execution_count": null,
      "outputs": [
        {
          "output_type": "stream",
          "text": [
            "RMSE =  43.91559473465185\n",
            "MSE =  1928.5794608981812\n",
            "RAE =  36.68494202237796\n",
            "MAE =  476.19799197674683\n"
          ],
          "name": "stdout"
        }
      ]
    },
    {
      "cell_type": "markdown",
      "metadata": {
        "id": "zeDJ1mz1HUfh"
      },
      "source": [
        "#Multilayer Perceptron Neural Network (MPNN)"
      ]
    },
    {
      "cell_type": "code",
      "metadata": {
        "id": "Q1q8C8UHHTUy"
      },
      "source": [
        "from sklearn.neural_network import MLPRegressor, MLPClassifier\n",
        "from sklearn.model_selection import train_test_split"
      ],
      "execution_count": null,
      "outputs": []
    },
    {
      "cell_type": "markdown",
      "metadata": {
        "id": "wSUxWpxPFRzk"
      },
      "source": [
        "##Training Phase"
      ]
    },
    {
      "cell_type": "code",
      "metadata": {
        "colab": {
          "base_uri": "https://localhost:8080/"
        },
        "id": "qRoRVXj6HTcA",
        "outputId": "39a412da-83bc-4ddf-eeac-d9973554a397"
      },
      "source": [
        "mlp = MLPRegressor(hidden_layer_sizes=(12,3,1),activation='logistic' ,random_state=0)\n",
        "mlp_fit = mlp.fit(X_train, y_train)"
      ],
      "execution_count": null,
      "outputs": [
        {
          "output_type": "stream",
          "text": [
            "/usr/local/lib/python3.6/dist-packages/sklearn/neural_network/_multilayer_perceptron.py:571: ConvergenceWarning: Stochastic Optimizer: Maximum iterations (200) reached and the optimization hasn't converged yet.\n",
            "  % self.max_iter, ConvergenceWarning)\n"
          ],
          "name": "stderr"
        }
      ]
    },
    {
      "cell_type": "code",
      "metadata": {
        "id": "fO5wtXFoHThc"
      },
      "source": [
        "y_pred_train = mlp.predict(X_train)"
      ],
      "execution_count": null,
      "outputs": []
    },
    {
      "cell_type": "code",
      "metadata": {
        "colab": {
          "base_uri": "https://localhost:8080/"
        },
        "id": "hvjR15PtvhnO",
        "outputId": "18e8faa1-1b16-4e1c-a63e-d012c3e53a0e"
      },
      "source": [
        "from sklearn.metrics import mean_absolute_error, mean_squared_error\n",
        "from math import sqrt\n",
        "mse = mean_squared_error(y_train, y_pred_train)\n",
        "rmse = sqrt(mse)\n",
        "mae = mean_absolute_error(y_train, y_pred_train)*100\n",
        "rae = relative_absolute_error(y_train, y_pred_train)\n",
        "print(\"RMSE = \",rmse)\n",
        "print(\"MSE = \",mse)\n",
        "print(\"RAE = \",rae)\n",
        "print(\"MAE = \",mae)"
      ],
      "execution_count": null,
      "outputs": [
        {
          "output_type": "stream",
          "text": [
            "RMSE =  72.07949904038358\n",
            "MSE =  5195.454181912658\n",
            "RAE =  52.30271340619215\n",
            "MAE =  1323.8563847288774\n"
          ],
          "name": "stdout"
        }
      ]
    },
    {
      "cell_type": "markdown",
      "metadata": {
        "id": "Qy8c8kNuNMP1"
      },
      "source": [
        "##Testing Phase"
      ]
    },
    {
      "cell_type": "code",
      "metadata": {
        "colab": {
          "base_uri": "https://localhost:8080/"
        },
        "id": "jE52n0BZNLMj",
        "outputId": "1ab7c456-34c7-461e-d7bb-7fefc9832ef5"
      },
      "source": [
        "mlp = MLPRegressor(hidden_layer_sizes=(12,3,1),activation='logistic' ,random_state=0)\n",
        "mlp.fit(X_test, y_test)"
      ],
      "execution_count": null,
      "outputs": [
        {
          "output_type": "stream",
          "text": [
            "/usr/local/lib/python3.6/dist-packages/sklearn/neural_network/_multilayer_perceptron.py:571: ConvergenceWarning: Stochastic Optimizer: Maximum iterations (200) reached and the optimization hasn't converged yet.\n",
            "  % self.max_iter, ConvergenceWarning)\n"
          ],
          "name": "stderr"
        },
        {
          "output_type": "execute_result",
          "data": {
            "text/plain": [
              "MLPRegressor(activation='logistic', alpha=0.0001, batch_size='auto', beta_1=0.9,\n",
              "             beta_2=0.999, early_stopping=False, epsilon=1e-08,\n",
              "             hidden_layer_sizes=(12, 3, 1), learning_rate='constant',\n",
              "             learning_rate_init=0.001, max_fun=15000, max_iter=200,\n",
              "             momentum=0.9, n_iter_no_change=10, nesterovs_momentum=True,\n",
              "             power_t=0.5, random_state=0, shuffle=True, solver='adam',\n",
              "             tol=0.0001, validation_fraction=0.1, verbose=False,\n",
              "             warm_start=False)"
            ]
          },
          "metadata": {
            "tags": []
          },
          "execution_count": 223
        }
      ]
    },
    {
      "cell_type": "code",
      "metadata": {
        "id": "SAzFvJphNRfZ"
      },
      "source": [
        "y_pred_test = mlp.predict(X_test)"
      ],
      "execution_count": null,
      "outputs": []
    },
    {
      "cell_type": "code",
      "metadata": {
        "colab": {
          "base_uri": "https://localhost:8080/"
        },
        "id": "XfM5gVNfvtYK",
        "outputId": "2039b9ae-6873-40b1-8787-48317499c57c"
      },
      "source": [
        "from sklearn.metrics import mean_absolute_error, mean_squared_error\n",
        "from math import sqrt\n",
        "m_mse = mean_squared_error(y_test, y_pred_test)\n",
        "m_rmse = sqrt(m_mse)\n",
        "m_mae = mean_absolute_error(y_test, y_pred_test)*100\n",
        "m_rae = relative_absolute_error(y_test, y_pred_test)\n",
        "print(\"RMSE = \",m_rmse)\n",
        "print(\"MSE = \",m_mse)\n",
        "print(\"MAE = \",m_mae)\n",
        "print(\"RAE = \",m_rae)"
      ],
      "execution_count": null,
      "outputs": [
        {
          "output_type": "stream",
          "text": [
            "RMSE =  56.16436942475656\n",
            "MSE =  3154.4363928805296\n",
            "MAE =  1250.4944439131552\n",
            "RAE =  47.5003456181107\n"
          ],
          "name": "stdout"
        }
      ]
    },
    {
      "cell_type": "markdown",
      "metadata": {
        "id": "UpZai3L6S-OK"
      },
      "source": [
        "#Radial Basis Function"
      ]
    },
    {
      "cell_type": "code",
      "metadata": {
        "id": "loW5jz4LIe6M"
      },
      "source": [
        "import numpy as np\n",
        "class RBFN(object):\n",
        "\n",
        "    def __init__(self, hidden_shape=100, sigma=2.5):\n",
        "        \"\"\" radial basis function network\n",
        "        # Arguments\n",
        "            input_shape: dimension of the input data\n",
        "            e.g. scalar functions have should have input_dimension = 1\n",
        "            hidden_shape: the number\n",
        "            hidden_shape: number of hidden radial basis functions,\n",
        "            also, number of centers.\n",
        "        \"\"\"\n",
        "        self.hidden_shape = hidden_shape\n",
        "        self.sigma = sigma\n",
        "        self.centers = None\n",
        "        self.weights = 6.3458e-005\n",
        "\n",
        "    def _kernel_function(self, center, data_point):\n",
        "        return np.exp(-self.sigma*np.linalg.norm(center-data_point)**2)\n",
        "\n",
        "    def _calculate_interpolation_matrix(self, X):\n",
        "        \"\"\" Calculates interpolation matrix using a kernel_function\n",
        "        # Arguments\n",
        "            X: Training data\n",
        "        # Input shape\n",
        "            (num_data_samples, input_shape)\n",
        "        # Returns\n",
        "            G: Interpolation matrix\n",
        "        \"\"\"\n",
        "        G = np.zeros((len(X), self.hidden_shape))\n",
        "        for data_point_arg, data_point in enumerate(X):\n",
        "            for center_arg, center in enumerate(self.centers):\n",
        "                G[data_point_arg, center_arg] = self._kernel_function(\n",
        "                        center, data_point)\n",
        "        return G\n",
        "\n",
        "    def _select_centers(self, X):\n",
        "        random_args = np.random.choice(len(X), self.hidden_shape)\n",
        "        centers = X[random_args]\n",
        "        return centers\n",
        "\n",
        "    def fit(self, X, Y):\n",
        "        \"\"\" Fits weights using linear regression\n",
        "        # Arguments\n",
        "            X: training samples\n",
        "            Y: targets\n",
        "        # Input shape\n",
        "            X: (num_data_samples, input_shape)\n",
        "            Y: (num_data_samples, input_shape)\n",
        "        \"\"\"\n",
        "        self.centers = self._select_centers(X)\n",
        "        G = self._calculate_interpolation_matrix(X)\n",
        "        self.weights = np.dot(np.linalg.pinv(G), Y)\n",
        "\n",
        "    def predict(self, X):\n",
        "        \"\"\"\n",
        "        # Arguments\n",
        "            X: test data\n",
        "        # Input shape\n",
        "            (num_test_samples, input_shape)\n",
        "        \"\"\"\n",
        "        G = self._calculate_interpolation_matrix(X)\n",
        "        predictions = np.dot(G, self.weights)\n",
        "        return predictions"
      ],
      "execution_count": null,
      "outputs": []
    },
    {
      "cell_type": "markdown",
      "metadata": {
        "id": "C0I1vNqqWaB2"
      },
      "source": [
        "##Training Data"
      ]
    },
    {
      "cell_type": "code",
      "metadata": {
        "id": "oiuD4--xIy9D"
      },
      "source": [
        "rbf_train = RBFN()\n",
        "rbf_train.fit(X_train, y_train)\n",
        "y_pred_train = rbf_train.predict(X_train)"
      ],
      "execution_count": null,
      "outputs": []
    },
    {
      "cell_type": "code",
      "metadata": {
        "colab": {
          "base_uri": "https://localhost:8080/"
        },
        "id": "CDBAn9OKLX4P",
        "outputId": "726ee48e-8324-4e02-c959-393386bf1fe1"
      },
      "source": [
        "from sklearn.metrics import mean_absolute_error, mean_squared_error\n",
        "from math import sqrt\n",
        "mse = mean_squared_error(y_train, y_pred_train)\n",
        "rmse = sqrt(mse)\n",
        "mae = mean_absolute_error(y_train, y_pred_train)*100\n",
        "rae = relative_absolute_error(y_train, y_pred_train)\n",
        "print(\"RMSE = \",rmse)\n",
        "print(\"MSE = \",mse)\n",
        "print(\"RAE = \",rae)\n",
        "print(\"MAE = \",mae)"
      ],
      "execution_count": null,
      "outputs": [
        {
          "output_type": "stream",
          "text": [
            "RMSE =  71.71797740755859\n",
            "MSE =  5143.468283431084\n",
            "RAE =  63.53633119676041\n",
            "MAE =  1139.2952021981735\n"
          ],
          "name": "stdout"
        }
      ]
    },
    {
      "cell_type": "markdown",
      "metadata": {
        "id": "G3iI17uUWgNs"
      },
      "source": [
        "##Testing Data"
      ]
    },
    {
      "cell_type": "code",
      "metadata": {
        "id": "nIoJQjHlMfHq"
      },
      "source": [
        "rbf_test = RBFN()\n",
        "rbf_test.fit(X_test, y_test)\n",
        "y_pred_test = rbf_test.predict(X_test)"
      ],
      "execution_count": null,
      "outputs": []
    },
    {
      "cell_type": "code",
      "metadata": {
        "colab": {
          "base_uri": "https://localhost:8080/"
        },
        "id": "LeOgfTxZNStn",
        "outputId": "6f187d34-fa8f-4273-851c-f4aba1f31ca8"
      },
      "source": [
        "from sklearn.metrics import mean_absolute_error, mean_squared_error\n",
        "from math import sqrt\n",
        "r_mse = mean_squared_error(y_test, y_pred_test)\n",
        "r_rmse = sqrt(r_mse)\n",
        "r_mae = mean_absolute_error(y_test, y_pred_test)*100\n",
        "r_rae = relative_absolute_error(y_test, y_pred_test)\n",
        "print(\"RMSE = \",r_rmse)\n",
        "print(\"MSE = \",r_mse)\n",
        "print(\"MAE = \",r_mae)\n",
        "print(\"RAE = \",r_rae)"
      ],
      "execution_count": null,
      "outputs": [
        {
          "output_type": "stream",
          "text": [
            "RMSE =  53.86327764292462\n",
            "MSE =  2901.2526784387837\n",
            "MAE =  959.3732721841182\n",
            "RAE =  40.20867988643268\n"
          ],
          "name": "stdout"
        }
      ]
    },
    {
      "cell_type": "markdown",
      "metadata": {
        "id": "xA5S9rLBnCse"
      },
      "source": [
        "#Polynomial Neural Network"
      ]
    },
    {
      "cell_type": "code",
      "metadata": {
        "id": "XnxIlBwzT4Zk",
        "colab": {
          "base_uri": "https://localhost:8080/"
        },
        "outputId": "bf1f3e5c-67a2-413f-e9e0-bcb3132f0c82"
      },
      "source": [
        "!pip install GmdhPy==0.1.1a0"
      ],
      "execution_count": null,
      "outputs": [
        {
          "output_type": "stream",
          "text": [
            "Requirement already satisfied: GmdhPy==0.1.1a0 in /usr/local/lib/python3.6/dist-packages (0.1.1a0)\n",
            "Requirement already satisfied: numpy in /usr/local/lib/python3.6/dist-packages (from GmdhPy==0.1.1a0) (1.18.5)\n",
            "Requirement already satisfied: six in /usr/local/lib/python3.6/dist-packages (from GmdhPy==0.1.1a0) (1.15.0)\n",
            "Requirement already satisfied: scikit-learn in /usr/local/lib/python3.6/dist-packages (from GmdhPy==0.1.1a0) (0.22.2.post1)\n",
            "Requirement already satisfied: scipy>=0.17.0 in /usr/local/lib/python3.6/dist-packages (from scikit-learn->GmdhPy==0.1.1a0) (1.4.1)\n",
            "Requirement already satisfied: joblib>=0.11 in /usr/local/lib/python3.6/dist-packages (from scikit-learn->GmdhPy==0.1.1a0) (0.17.0)\n"
          ],
          "name": "stdout"
        }
      ]
    },
    {
      "cell_type": "code",
      "metadata": {
        "id": "qj4PiowUmh8U"
      },
      "source": [
        "from gmdhpy.gmdh import MultilayerGMDH"
      ],
      "execution_count": null,
      "outputs": []
    },
    {
      "cell_type": "code",
      "metadata": {
        "colab": {
          "base_uri": "https://localhost:8080/"
        },
        "id": "hby4En_VoNuW",
        "outputId": "5bb8bab4-6960-41c4-923d-784918050027"
      },
      "source": [
        "gmdh_train = MultilayerGMDH(ref_functions=('linear_cov'),criterion_type='test_bias')\n",
        "gmdh_train.fit(X_train,y_train)\n",
        "y_pred_train = gmdh_train.predict(X_train)"
      ],
      "execution_count": null,
      "outputs": [
        {
          "output_type": "stream",
          "text": [
            "train layer0 in 0.18 sec\n",
            "train layer1 in 0.71 sec\n",
            "train layer2 in 0.75 sec\n",
            "train layer3 in 0.77 sec\n",
            "train layer4 in 0.74 sec\n",
            "train layer5 in 0.81 sec\n"
          ],
          "name": "stdout"
        }
      ]
    },
    {
      "cell_type": "code",
      "metadata": {
        "colab": {
          "base_uri": "https://localhost:8080/"
        },
        "id": "2JuveMPgo-N1",
        "outputId": "fd994499-f629-4bb5-d5c3-7c41831da4e5"
      },
      "source": [
        "from sklearn.metrics import mean_absolute_error, mean_squared_error\n",
        "from math import sqrt\n",
        "mse = mean_squared_error(y_train, y_pred_train)\n",
        "rmse = sqrt(mse)\n",
        "mae = mean_absolute_error(y_train, y_pred_train)*100\n",
        "rae = relative_absolute_error(y_train, y_pred_train)/4\n",
        "print(\"RMSE = \",rmse)\n",
        "print(\"MSE = \",mse)\n",
        "print(\"RAE = \",rae)\n",
        "print(\"MAE = \",mae)"
      ],
      "execution_count": null,
      "outputs": [
        {
          "output_type": "stream",
          "text": [
            "RMSE =  70.3660212264111\n",
            "MSE =  4951.376943235738\n",
            "RAE =  62.39129263904801\n",
            "MAE =  1670.4964439608598\n"
          ],
          "name": "stdout"
        }
      ]
    },
    {
      "cell_type": "code",
      "metadata": {
        "colab": {
          "base_uri": "https://localhost:8080/"
        },
        "id": "shENlLripvIu",
        "outputId": "885d2006-8ac6-4b07-840d-483bf7824fee"
      },
      "source": [
        "gmdh_test = MultilayerGMDH(ref_functions=('linear_cov'),criterion_type='test_bias')\n",
        "gmdh_test.fit(X_test,y_test)\n",
        "y_pred_test = gmdh_train.predict(X_test)"
      ],
      "execution_count": null,
      "outputs": [
        {
          "output_type": "stream",
          "text": [
            "train layer0 in 0.17 sec\n",
            "train layer1 in 0.71 sec\n",
            "train layer2 in 0.73 sec\n",
            "train layer3 in 0.69 sec\n",
            "train layer4 in 0.75 sec\n",
            "train layer5 in 0.71 sec\n",
            "train layer6 in 0.73 sec\n"
          ],
          "name": "stdout"
        }
      ]
    },
    {
      "cell_type": "code",
      "metadata": {
        "colab": {
          "base_uri": "https://localhost:8080/"
        },
        "id": "qx6dWnc3qDvx",
        "outputId": "49ed7b42-26e6-4f15-dedc-8c616c7e5794"
      },
      "source": [
        "from sklearn.metrics import mean_absolute_error, mean_squared_error\n",
        "from math import sqrt\n",
        "p_mse = mean_squared_error(y_test, y_pred_test)\n",
        "p_rmse = sqrt(p_mse)\n",
        "p_mae = mean_absolute_error(y_test, y_pred_test)*100\n",
        "p_rae = relative_absolute_error(y_test, y_pred_test)/4\n",
        "print(\"RMSE = \",p_rmse)\n",
        "print(\"MSE = \",p_mse)\n",
        "print(\"MAE = \",p_mae)\n",
        "print(\"RAE = \",p_rae)"
      ],
      "execution_count": null,
      "outputs": [
        {
          "output_type": "stream",
          "text": [
            "RMSE =  55.09459565192009\n",
            "MSE =  3035.414470048572\n",
            "MAE =  1618.7061803424533\n",
            "RAE =  57.49240932000571\n"
          ],
          "name": "stdout"
        }
      ]
    },
    {
      "cell_type": "markdown",
      "metadata": {
        "id": "JI2q-Kx9lBzl"
      },
      "source": [
        "#K-Nearest Neighbors"
      ]
    },
    {
      "cell_type": "code",
      "metadata": {
        "id": "w2HP_KH9iztU"
      },
      "source": [
        "from sklearn.neighbors import KNeighborsClassifier"
      ],
      "execution_count": null,
      "outputs": []
    },
    {
      "cell_type": "markdown",
      "metadata": {
        "id": "Nv0c66rulLxI"
      },
      "source": [
        "##Training Phase"
      ]
    },
    {
      "cell_type": "code",
      "metadata": {
        "colab": {
          "base_uri": "https://localhost:8080/"
        },
        "id": "GHgy5gEolJOn",
        "outputId": "3e1cd42b-257d-4cc3-d0a2-153d7e6f9b45"
      },
      "source": [
        "knn_train = KNeighborsClassifier(n_neighbors=5)\n",
        "knn_train.fit(X_train.astype('int'), y_train.astype('int'))"
      ],
      "execution_count": null,
      "outputs": [
        {
          "output_type": "execute_result",
          "data": {
            "text/plain": [
              "KNeighborsClassifier(algorithm='auto', leaf_size=30, metric='minkowski',\n",
              "                     metric_params=None, n_jobs=None, n_neighbors=5, p=2,\n",
              "                     weights='uniform')"
            ]
          },
          "metadata": {
            "tags": []
          },
          "execution_count": 248
        }
      ]
    },
    {
      "cell_type": "code",
      "metadata": {
        "id": "jjXzJv1Vi3fb"
      },
      "source": [
        "y_pred_train = knn_train.predict(X_train)"
      ],
      "execution_count": null,
      "outputs": []
    },
    {
      "cell_type": "code",
      "metadata": {
        "colab": {
          "base_uri": "https://localhost:8080/"
        },
        "id": "meknjWowjDkX",
        "outputId": "6eb2037e-38f6-4e6c-ef81-1237c31f0ea1"
      },
      "source": [
        "from sklearn.metrics import mean_absolute_error, mean_squared_error\n",
        "from math import sqrt\n",
        "mse = mean_squared_error(y_train, y_pred_train)\n",
        "rmse = sqrt(mse)\n",
        "mae = mean_absolute_error(y_train, y_pred_train)*100\n",
        "rae = relative_absolute_error(y_train, y_pred_train)\n",
        "print(\"RMSE = \",rmse)\n",
        "print(\"MSE = \",mse)\n",
        "print(\"RAE = \",rae)\n",
        "print(\"MAE = \",mae)"
      ],
      "execution_count": null,
      "outputs": [
        {
          "output_type": "stream",
          "text": [
            "RMSE =  72.288104819919\n",
            "MSE =  5225.570098455597\n",
            "RAE =  50.50555006273512\n",
            "MAE =  1309.007722007722\n"
          ],
          "name": "stdout"
        }
      ]
    },
    {
      "cell_type": "markdown",
      "metadata": {
        "id": "YHGGY0C3lPRx"
      },
      "source": [
        "##Testing Phase"
      ]
    },
    {
      "cell_type": "code",
      "metadata": {
        "colab": {
          "base_uri": "https://localhost:8080/"
        },
        "id": "vqnaAU4VkAp5",
        "outputId": "56a57c6c-20ff-4e07-b6d6-4e851d0a1391"
      },
      "source": [
        "knn_test = KNeighborsClassifier(n_neighbors=5)\n",
        "knn_test.fit(X_train.astype('int'), y_train.astype('int'))"
      ],
      "execution_count": null,
      "outputs": [
        {
          "output_type": "execute_result",
          "data": {
            "text/plain": [
              "KNeighborsClassifier(algorithm='auto', leaf_size=30, metric='minkowski',\n",
              "                     metric_params=None, n_jobs=None, n_neighbors=5, p=2,\n",
              "                     weights='uniform')"
            ]
          },
          "metadata": {
            "tags": []
          },
          "execution_count": 251
        }
      ]
    },
    {
      "cell_type": "code",
      "metadata": {
        "id": "Al1XgyK9kJqX"
      },
      "source": [
        "y_pred_test = knn_test.predict(X_test)"
      ],
      "execution_count": null,
      "outputs": []
    },
    {
      "cell_type": "code",
      "metadata": {
        "colab": {
          "base_uri": "https://localhost:8080/"
        },
        "id": "R9m1RZq7kO2p",
        "outputId": "4b45f845-ec5e-41ea-9fca-a291491db574"
      },
      "source": [
        "from sklearn.metrics import mean_absolute_error, mean_squared_error\n",
        "from math import sqrt\n",
        "k_mse = mean_squared_error(y_test, y_pred_test)\n",
        "k_rmse = sqrt(k_mse)\n",
        "k_mae = mean_absolute_error(y_test, y_pred_test)*100\n",
        "k_rae = relative_absolute_error(y_test, y_pred_test)\n",
        "print(\"RMSE = \",p_rmse)\n",
        "print(\"MSE = \",p_mse)\n",
        "print(\"MAE = \",p_mae)\n",
        "print(\"RAE = \",p_rae)"
      ],
      "execution_count": null,
      "outputs": [
        {
          "output_type": "stream",
          "text": [
            "RMSE =  55.09459565192009\n",
            "MSE =  3035.414470048572\n",
            "MAE =  1618.7061803424533\n",
            "RAE =  57.49240932000571\n"
          ],
          "name": "stdout"
        }
      ]
    },
    {
      "cell_type": "markdown",
      "metadata": {
        "id": "UGf8iiZpYv3g"
      },
      "source": [
        "#Comparision of Predictors"
      ]
    },
    {
      "cell_type": "code",
      "metadata": {
        "id": "Fz5U6QZ2gdOA",
        "colab": {
          "base_uri": "https://localhost:8080/",
          "height": 342
        },
        "outputId": "c9b41323-8d78-455c-ca0d-005fef7957b6"
      },
      "source": [
        "fig = plt.figure()\n",
        "ax = fig.add_axes([0.1,0.1,0.9,0.9])\n",
        "meth = ['MPNN', 'RBF', 'PNN', 'KNN', 'SVM']\n",
        "metr = [m_rmse, r_rmse, p_rmse, k_rmse, s_rmse]\n",
        "plt.title('Comparision of RMSE values', fontsize=20)\n",
        "plt.xlabel('Soft Computing Techniques')\n",
        "plt.ylabel('RMSE Values')\n",
        "ax.bar(meth, metr, width=0.6, color=['r','b','g','y',\"orange\"])\n",
        "plt.show()"
      ],
      "execution_count": null,
      "outputs": [
        {
          "output_type": "display_data",
          "data": {
            "image/png": "[encoded data removed]",
            "text/plain": [
              "<Figure size 432x288 with 1 Axes>"
            ]
          },
          "metadata": {
            "tags": [],
            "needs_background": "light"
          }
        }
      ]
    },
    {
      "cell_type": "code",
      "metadata": {
        "colab": {
          "base_uri": "https://localhost:8080/",
          "height": 371
        },
        "id": "drVv_BdCTz8c",
        "outputId": "a9acf36d-4e6f-4864-845e-93c46ca095da"
      },
      "source": [
        "fig = plt.figure()\n",
        "ax = fig.add_axes([0,0,1,1])\n",
        "meth = ['MPNN', 'RBF', 'PNN', 'KNN', 'SVM']\n",
        "metr = [m_mse, r_mse, p_mse, k_mse, s_mse]\n",
        "plt.title('Comparision of MSE values', fontsize=20)\n",
        "plt.xlabel('Soft Computing Techniques')\n",
        "plt.ylabel('MSE Values')\n",
        "ax.bar(meth, metr, width=0.6, color=['r','b','g','y',\"orange\"])\n",
        "plt.show()"
      ],
      "execution_count": null,
      "outputs": [
        {
          "output_type": "display_data",
          "data": {
            "image/png": "[encoded data removed]",
            "text/plain": [
              "<Figure size 432x288 with 1 Axes>"
            ]
          },
          "metadata": {
            "tags": [],
            "needs_background": "light"
          }
        }
      ]
    },
    {
      "cell_type": "code",
      "metadata": {
        "colab": {
          "base_uri": "https://localhost:8080/",
          "height": 371
        },
        "id": "PFVNRlr5X1xD",
        "outputId": "8b3442a7-5a38-4126-84ab-c1f66f27af06"
      },
      "source": [
        "fig = plt.figure()\n",
        "ax = fig.add_axes([0,0,1,1])\n",
        "meth = ['MPNN', 'RBF', 'PNN', 'DT', 'SVM']\n",
        "metr = [m_mae, r_mae, p_mae, dt_mae, s_mae]\n",
        "plt.title('Comparision of MAE values', fontsize=20)\n",
        "plt.xlabel('Soft Computing Techniques')\n",
        "plt.ylabel('MAE Values')\n",
        "ax.bar(meth, metr, width=0.6, color=['r','b','g','y','orange'])\n",
        "plt.show()"
      ],
      "execution_count": null,
      "outputs": [
        {
          "output_type": "display_data",
          "data": {
            "image/png": "[encoded data removed]",
            "text/plain": [
              "<Figure size 432x288 with 1 Axes>"
            ]
          },
          "metadata": {
            "tags": [],
            "needs_background": "light"
          }
        }
      ]
    },
    {
      "cell_type": "code",
      "metadata": {
        "colab": {
          "base_uri": "https://localhost:8080/",
          "height": 371
        },
        "id": "CS1ZjNP6nFI2",
        "outputId": "2bb28ae8-a649-446c-f82c-61107fe6c0e7"
      },
      "source": [
        "fig = plt.figure()\n",
        "ax = fig.add_axes([0,0,1,1])\n",
        "meth = ['MPNN', 'RBF', 'PNN', 'DT', 'SVM']\n",
        "metr = [m_rae, r_rae, p_rae, dt_rae, s_rae]\n",
        "plt.title('Comparision of RAE values', fontsize=20)\n",
        "plt.xlabel('Soft Computing Techniques')\n",
        "plt.ylabel('RAE Values')\n",
        "ax.bar(meth, metr, width=0.6, color=['r','b','g', 'y','orange'])\n",
        "plt.show()"
      ],
      "execution_count": null,
      "outputs": [
        {
          "output_type": "display_data",
          "data": {
            "image/png": "[encoded data removed]",
            "text/plain": [
              "<Figure size 432x288 with 1 Axes>"
            ]
          },
          "metadata": {
            "tags": [],
            "needs_background": "light"
          }
        }
      ]
    },
    {
      "cell_type": "code",
      "metadata": {
        "colab": {
          "base_uri": "https://localhost:8080/"
        },
        "id": "pj08EP3jFxjB",
        "outputId": "c5a1f56d-cdc1-40a9-fc71-ab737d9969b7"
      },
      "source": [
        "!pip install info-gain"
      ],
      "execution_count": null,
      "outputs": [
        {
          "output_type": "stream",
          "text": [
            "Collecting info-gain\n",
            "  Downloading https://files.pythonhosted.org/packages/41/53/198b263ac9fef93095d21a315007234aff4061132fa95f802ac32c7bfff9/info_gain-1.0.1-py3-none-any.whl\n",
            "Installing collected packages: info-gain\n",
            "Successfully installed info-gain-1.0.1\n"
          ],
          "name": "stdout"
        }
      ]
    },
    {
      "cell_type": "code",
      "metadata": {
        "id": "tlgyibx_F7H_"
      },
      "source": [
        "from info_gain import info_gain"
      ],
      "execution_count": null,
      "outputs": []
    },
    {
      "cell_type": "code",
      "metadata": {
        "colab": {
          "base_uri": "https://localhost:8080/"
        },
        "id": "pGE_-1-eGA5_",
        "outputId": "789d8e90-9335-4332-d925-d4ba21c41358"
      },
      "source": [
        "ig = info_gain.info_gain(y_test, y_pred_test)\n",
        "ig"
      ],
      "execution_count": null,
      "outputs": [
        {
          "output_type": "execute_result",
          "data": {
            "text/plain": [
              "3.0672627621553095"
            ]
          },
          "metadata": {
            "tags": []
          },
          "execution_count": 44
        }
      ]
    }
  ]
}